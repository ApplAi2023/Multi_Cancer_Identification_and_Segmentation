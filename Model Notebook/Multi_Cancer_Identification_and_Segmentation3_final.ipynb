{
  "cells": [
    {
      "cell_type": "markdown",
      "metadata": {
        "id": "view-in-github",
        "colab_type": "text"
      },
      "source": [
        "<a href=\"https://colab.research.google.com/github/MohamedGalal2/Multi_Cancer_Identification_and_Segmentation/blob/main/Multi_Cancer_Identification_and_Segmentation3_final.ipynb\" target=\"_parent\"><img src=\"https://colab.research.google.com/assets/colab-badge.svg\" alt=\"Open In Colab\"/></a>"
      ]
    },
    {
      "cell_type": "code",
      "execution_count": null,
      "metadata": {
        "cellView": "form",
        "colab": {
          "base_uri": "https://localhost:8080/"
        },
        "id": "00b19dce",
        "outputId": "8b168fff-8430-4709-e846-d5fe23433e6b"
      },
      "outputs": [
        {
          "name": "stdout",
          "output_type": "stream",
          "text": [
            "Looking in indexes: https://pypi.org/simple, https://us-python.pkg.dev/colab-wheels/public/simple/\n",
            "Collecting segmentation_models\n",
            "  Downloading segmentation_models-1.0.1-py3-none-any.whl (33 kB)\n",
            "Collecting keras-applications<=1.0.8,>=1.0.7\n",
            "  Downloading Keras_Applications-1.0.8-py3-none-any.whl (50 kB)\n",
            "\u001b[K     |████████████████████████████████| 50 kB 7.5 MB/s \n",
            "\u001b[?25hCollecting efficientnet==1.0.0\n",
            "  Downloading efficientnet-1.0.0-py3-none-any.whl (17 kB)\n",
            "Collecting image-classifiers==1.0.0\n",
            "  Downloading image_classifiers-1.0.0-py3-none-any.whl (19 kB)\n",
            "Requirement already satisfied: scikit-image in /usr/local/lib/python3.8/dist-packages (from efficientnet==1.0.0->segmentation_models) (0.18.3)\n",
            "Requirement already satisfied: numpy>=1.9.1 in /usr/local/lib/python3.8/dist-packages (from keras-applications<=1.0.8,>=1.0.7->segmentation_models) (1.21.6)\n",
            "Requirement already satisfied: h5py in /usr/local/lib/python3.8/dist-packages (from keras-applications<=1.0.8,>=1.0.7->segmentation_models) (3.1.0)\n",
            "Requirement already satisfied: networkx>=2.0 in /usr/local/lib/python3.8/dist-packages (from scikit-image->efficientnet==1.0.0->segmentation_models) (2.8.8)\n",
            "Requirement already satisfied: scipy>=1.0.1 in /usr/local/lib/python3.8/dist-packages (from scikit-image->efficientnet==1.0.0->segmentation_models) (1.7.3)\n",
            "Requirement already satisfied: tifffile>=2019.7.26 in /usr/local/lib/python3.8/dist-packages (from scikit-image->efficientnet==1.0.0->segmentation_models) (2022.10.10)\n",
            "Requirement already satisfied: matplotlib!=3.0.0,>=2.0.0 in /usr/local/lib/python3.8/dist-packages (from scikit-image->efficientnet==1.0.0->segmentation_models) (3.2.2)\n",
            "Requirement already satisfied: imageio>=2.3.0 in /usr/local/lib/python3.8/dist-packages (from scikit-image->efficientnet==1.0.0->segmentation_models) (2.9.0)\n",
            "Requirement already satisfied: PyWavelets>=1.1.1 in /usr/local/lib/python3.8/dist-packages (from scikit-image->efficientnet==1.0.0->segmentation_models) (1.4.1)\n",
            "Requirement already satisfied: pillow!=7.1.0,!=7.1.1,>=4.3.0 in /usr/local/lib/python3.8/dist-packages (from scikit-image->efficientnet==1.0.0->segmentation_models) (7.1.2)\n",
            "Requirement already satisfied: pyparsing!=2.0.4,!=2.1.2,!=2.1.6,>=2.0.1 in /usr/local/lib/python3.8/dist-packages (from matplotlib!=3.0.0,>=2.0.0->scikit-image->efficientnet==1.0.0->segmentation_models) (3.0.9)\n",
            "Requirement already satisfied: cycler>=0.10 in /usr/local/lib/python3.8/dist-packages (from matplotlib!=3.0.0,>=2.0.0->scikit-image->efficientnet==1.0.0->segmentation_models) (0.11.0)\n",
            "Requirement already satisfied: python-dateutil>=2.1 in /usr/local/lib/python3.8/dist-packages (from matplotlib!=3.0.0,>=2.0.0->scikit-image->efficientnet==1.0.0->segmentation_models) (2.8.2)\n",
            "Requirement already satisfied: kiwisolver>=1.0.1 in /usr/local/lib/python3.8/dist-packages (from matplotlib!=3.0.0,>=2.0.0->scikit-image->efficientnet==1.0.0->segmentation_models) (1.4.4)\n",
            "Requirement already satisfied: six>=1.5 in /usr/local/lib/python3.8/dist-packages (from python-dateutil>=2.1->matplotlib!=3.0.0,>=2.0.0->scikit-image->efficientnet==1.0.0->segmentation_models) (1.15.0)\n",
            "Installing collected packages: keras-applications, image-classifiers, efficientnet, segmentation-models\n",
            "Successfully installed efficientnet-1.0.0 image-classifiers-1.0.0 keras-applications-1.0.8 segmentation-models-1.0.1\n"
          ]
        }
      ],
      "source": [
        "#@title Imports\n",
        "import cv2\n",
        "import os\n",
        "import pandas as pd\n",
        "import sklearn\n",
        "from sklearn.preprocessing import OneHotEncoder\n",
        "import random\n",
        "import matplotlib.pyplot as plt\n",
        "import tensorflow as tf\n",
        "from tensorflow.keras.applications import EfficientNetB3\n",
        "from keras import applications\n",
        "from keras import callbacks\n",
        "from keras.models import Sequential\n",
        "from keras.layers import Dense, MaxPool2D\n",
        "from keras.optimizers import Adam\n",
        "import numpy as np\n",
        "!pip install segmentation_models \n",
        "from natsort import natsorted \n",
        "#from keras.layers.normalization import BatchNormalization\n",
        "from keras.layers import *\n",
        "from keras.layers import Conv2D, MaxPooling2D\n",
        "from keras.layers import Activation, Dropout, Flatten, Dense\n",
        "from tensorflow.keras.applications.resnet50 import ResNet50\n",
        "from PIL import Image, ImageEnhance\n",
        "\n",
        "from tensorflow.keras.applications.inception_v3 import InceptionV3\n",
        "from keras.applications.inception_v3 import preprocess_input\n",
        "from keras.applications.inception_v3 import decode_predictions\n",
        "from tensorflow.keras.preprocessing import image\n",
        "from tensorflow.keras.models import Model\n",
        "# from tensorflow.keras.layers import Dense, GlobalAveragePooling2\n",
        "from google.colab.patches import cv2_imshow\n",
        "import sys\n",
        "import random\n",
        "import warnings #\n",
        "import pandas as pd\n",
        "from itertools import chain\n",
        "from skimage.io import imread, imshow, imread_collection, concatenate_images\n",
        "from skimage.morphology import label\n",
        "from tensorflow.keras.models import Model, load_model\n",
        "from tensorflow.keras.layers import Input\n",
        "from tensorflow.keras.layers import Dropout, Lambda\n",
        "from tensorflow.keras.layers import Conv2D, Conv2DTranspose\n",
        "from tensorflow.keras.layers import MaxPooling2D\n",
        "from tensorflow.keras.layers import concatenate\n",
        "from tensorflow.keras.callbacks import EarlyStopping, ModelCheckpoint\n",
        "from tensorflow.keras import backend as K\n",
        "import tensorflow as tfD\n",
        "\n",
        "import seaborn as sns\n",
        "from sklearn.metrics import confusion_matrix\n",
        "from keras.utils.vis_utils import plot_model\n",
        "from sklearn.utils import shuffle\n",
        "from datetime import datetime as dt\n",
        "import datetime\n",
        "# from PIL import Image\n",
        "# from PIL import ImageFilter"
      ],
      "id": "00b19dce"
    },
    {
      "cell_type": "code",
      "execution_count": null,
      "metadata": {
        "id": "9Uv9OzRdkAnS"
      },
      "outputs": [],
      "source": [
        "IMG_SIZE=224"
      ],
      "id": "9Uv9OzRdkAnS"
    },
    {
      "cell_type": "code",
      "execution_count": null,
      "metadata": {
        "id": "tB4k7QIXjzSh"
      },
      "outputs": [],
      "source": [
        "def binarize_mask(mask):\n",
        "  mask=np.asarray(mask)\n",
        "  mask = mask.astype(\"uint8\")\n",
        "  ret2,thresh1 = cv2.threshold(mask,0,1,cv2.THRESH_BINARY+cv2.THRESH_OTSU)\n",
        "  return thresh1\n"
      ],
      "id": "tB4k7QIXjzSh"
    },
    {
      "cell_type": "code",
      "execution_count": null,
      "metadata": {
        "id": "iK-80JOFvsrV"
      },
      "outputs": [],
      "source": [
        "def encode(y):\n",
        "  y_df=pd.DataFrame(y)\n",
        "  enc=OneHotEncoder()\n",
        "  enc_data=pd.DataFrame(enc.fit_transform(y_df).toarray())\n",
        "  y=enc_data.astype(int)\n",
        "  y=np.asarray(y)\n",
        "  return y\n"
      ],
      "id": "iK-80JOFvsrV"
    },
    {
      "cell_type": "code",
      "execution_count": null,
      "metadata": {
        "id": "QPHZ0wO6I_sZ"
      },
      "outputs": [],
      "source": [
        "def enhance(imgarr):    ## not used; decreased the accuracy of the models\n",
        "                        \n",
        "    enhancer = ImageEnhance.Sharpness(imgarr.convert('RGB'))\n",
        "    factor = 4\n",
        "    imgarr = enhancer.enhance(factor)\n",
        "    imgarr=np.asarray(imgarr)\n",
        "    return imgarr\n",
        " "
      ],
      "id": "QPHZ0wO6I_sZ"
    },
    {
      "cell_type": "code",
      "execution_count": null,
      "metadata": {
        "id": "MS1cm8hIShUX"
      },
      "outputs": [],
      "source": [
        "def clahe(img):\n",
        "  img = cv2.cvtColor(img, cv2.COLOR_RGB2Lab)\n",
        "\n",
        "  #configure CLAHE\n",
        "  clahe = cv2.createCLAHE(clipLimit=2,tileGridSize=(8,8))\n",
        "\n",
        "  #0 to 'L' channel, 1 to 'a' channel, and 2 to 'b' channel\n",
        "  img[:,:,0] = clahe.apply(img[:,:,0])\n",
        "\n",
        "  img = cv2.cvtColor(img, cv2.COLOR_Lab2RGB)\n",
        "  return img"
      ],
      "id": "MS1cm8hIShUX"
    },
    {
      "cell_type": "markdown",
      "metadata": {
        "id": "d1f4a307"
      },
      "source": [
        "# Reading Data"
      ],
      "id": "d1f4a307"
    },
    {
      "cell_type": "code",
      "execution_count": null,
      "metadata": {
        "colab": {
          "base_uri": "https://localhost:8080/"
        },
        "id": "cbfe4703",
        "outputId": "6ab96d7a-19a4-4454-973f-aaeaf5e0a96d"
      },
      "outputs": [
        {
          "name": "stdout",
          "output_type": "stream",
          "text": [
            "Mounted at /content/gdrive\n"
          ]
        }
      ],
      "source": [
        "from google.colab import drive\n",
        "drive.mount('/content/gdrive')\n"
      ],
      "id": "cbfe4703"
    },
    {
      "cell_type": "code",
      "execution_count": null,
      "metadata": {
        "id": "6206b5a1"
      },
      "outputs": [],
      "source": [
        "def create_brain_data(Type):\n",
        "    pa = \"/content/gdrive/MyDrive/Dataset/Brain scans\"\n",
        "    x = []\n",
        "    y_list=[]\n",
        "    img_idx=0\n",
        "    y_mask=[]\n",
        "    ind=0\n",
        "\n",
        "    for FolderName in sorted(os.listdir(pa)):  # brain scans\n",
        "\n",
        "        y=int(FolderName==\"Tumor\")\n",
        "          \n",
        "        inputPath = os.path.join(pa, FolderName)\n",
        "       \n",
        "        for file in (sorted(os.listdir(inputPath))): \n",
        "            \n",
        "            \n",
        "            filePath = os.path.join(inputPath, file)\n",
        "            if(file==Type or file==Type.upper()):\n",
        "                for img in (sorted(os.listdir(filePath))):\n",
        "\n",
        "                    imgPath = os.path.join(filePath, img)\n",
        "\n",
        "                    imgarr=cv2.imread(imgPath)\n",
        "                    imgarr = cv2.cvtColor(imgarr, cv2.COLOR_BGR2RGB)\n",
        "                    imgarr = cv2.resize(imgarr, (IMG_SIZE,IMG_SIZE))\n",
        "                    \n",
        "                    \n",
        "                    x.append(imgarr)\n",
        "                    y_list.append([0,y])\n",
        "                    y_mask.append([ind,y])\n",
        "                    ind+=1        \n",
        "\n",
        "    return x,y_list,y_mask\n",
        "Xtrain_brain,Ytrain_brain,y_trainmask = create_brain_data('Train')\n",
        "Xtest_brain,Ytest_brain,y_test_mask = create_brain_data('Test')"
      ],
      "id": "6206b5a1"
    },
    {
      "cell_type": "code",
      "execution_count": null,
      "metadata": {
        "id": "1cbd6344"
      },
      "outputs": [],
      "source": [
        "def create_breast_data(Type):\n",
        "    pa = \"/content/gdrive/MyDrive/Dataset/Breast scans\"\n",
        "    x = []\n",
        "    masks = []\n",
        "    y_list=[]\n",
        "    img_idx=0\n",
        "    y=0\n",
        "    normal = []\n",
        "    benign = []\n",
        "    malignant = []\n",
        "    for FolderName in sorted(os.listdir(pa)):  # brain scans\n",
        "\n",
        "        \n",
        "    \n",
        "        inputPath = os.path.join(pa, FolderName)\n",
        "       \n",
        "        for file in (sorted(os.listdir(inputPath))): \n",
        "            \n",
        "            \n",
        "            filePath = os.path.join(inputPath, file)\n",
        "            if(file==Type or file==Type.upper()):\n",
        "                for img in (natsorted(os.listdir(filePath))):\n",
        "\n",
        "                    imgPath = os.path.join(filePath, img)\n",
        "                    img_name=img.split('_')\n",
        "                    img_name.append(0)\n",
        " \n",
        "                    if(img_name[1] ==0):\n",
        "                        imgarr=cv2.imread(imgPath)\n",
        "                        imgarr = cv2.cvtColor(imgarr, cv2.COLOR_BGR2RGB)\n",
        "                        imgarr = cv2.resize(imgarr, (IMG_SIZE,IMG_SIZE))\n",
        "                        x.append(imgarr)\n",
        "                        if(FolderName==\"normal\"):\n",
        "                            y=0\n",
        "                            normal.append(imgarr)\n",
        "                        elif(FolderName==\"benign\"):\n",
        "                            y=1\n",
        "                            benign.append(imgarr)\n",
        "                        else:\n",
        "                            y=2\n",
        "                            malignant.append(imgarr)\n",
        "                        y_list.append([1,y])\n",
        "\n",
        "\n",
        "    return x,y_list,normal,benign,malignant\n",
        "Xtrain_breast,Ytrain_breast,normal_train,benign_train,malignant_train=create_breast_data('Train')\n",
        "Xtest_breast,Ytest_breast,normal_test,benign_test,malignant_test=create_breast_data('Test')"
      ],
      "id": "1cbd6344"
    },
    {
      "cell_type": "code",
      "execution_count": null,
      "metadata": {
        "id": "F7lnjzRi85G2"
      },
      "outputs": [],
      "source": [
        "def create_Brain_mask_data(Type):\n",
        "  if(Type=='Train'):\n",
        "      pa = \"/content/gdrive/MyDrive/Dataset/Brain scans/Tumor/TRAIN_masks\"\n",
        "  else:\n",
        "      pa = \"/content/gdrive/MyDrive/Dataset/Brain scans/Tumor/TEST_masks\"\n",
        "  train_mask = []\n",
        "\n",
        "\n",
        "  for image in sorted(os.listdir(pa)):  # brain train masks \n",
        "\n",
        "      imgPath = os.path.join(pa, image)\n",
        "\n",
        "      imgarr=cv2.imread(imgPath,0)\n",
        "        #(thresh, im_bw) = cv2.threshold(im_gray, 128, 255, cv2.THRESH_BINARY | cv2.THRESH_OTSU)\n",
        "         #imgarr = cv2.cvtColor(imgarr, cv2.COLOR_BGR2RGB)\n",
        "      imgarr = cv2.resize(imgarr, (IMG_SIZE,IMG_SIZE))\n",
        "      imgarr=binarize_mask(imgarr)\n",
        "\n",
        "      train_mask.append(imgarr)\n",
        "\n",
        "  return train_mask\n",
        "train_brain_mask = create_Brain_mask_data('Train')\n",
        "test_brain_mask = create_Brain_mask_data('Test')\n"
      ],
      "id": "F7lnjzRi85G2"
    },
    {
      "cell_type": "code",
      "execution_count": null,
      "metadata": {
        "id": "RWWwRXFY2iAS"
      },
      "outputs": [],
      "source": [
        "from natsort import natsorted \n",
        "def create_Breast_mask_data(Type):\n",
        "  pa = \"/content/gdrive/MyDrive/Dataset/Breast scans\"\n",
        "  train_mask = []\n",
        "  index = 0\n",
        "  if(Type == \"Train\"):\n",
        "    prev_name='benign'\n",
        "  else:\n",
        "    prev_name=\"benign (398)\" \n",
        "\n",
        "  for folder in sorted(os.listdir(pa)):  # Breast train masks \n",
        "        if(folder == 'benign' or folder == 'malignant'):\n",
        "          folderpath = os.path.join(pa, folder)\n",
        "          for file in sorted(os.listdir(folderpath)):\n",
        "            if(file == Type):\n",
        "              filepath = os.path.join(folderpath, file)\n",
        "              for img in natsorted(os.listdir(filepath)):\n",
        "\n",
        "                imgname=img.split('_')                       \n",
        "                imgname.append(0)\n",
        "                imgname.append(0)\n",
        "                imgname.append(0)\n",
        "                \n",
        "\n",
        "                \n",
        "\n",
        "                if(imgname[1] != 0): \n",
        "\n",
        "                  \n",
        "                  imgpath = os.path.join(filepath, img)\n",
        "                  imgarr = cv2.imread(imgpath,0)\n",
        "                  \n",
        "                  \n",
        "                  imgarr = cv2.resize(imgarr, (IMG_SIZE,IMG_SIZE))\n",
        "                  imgarr=np.asarray(imgarr)\n",
        "                  imgarr=binarize_mask(imgarr)\n",
        "\n",
        "                  if (imgname[2]!='1.png') and (imgname[2]!='2.png'): \n",
        "                    train_mask.append(imgarr) \n",
        "\n",
        "                    prev_name=imgname[0]\n",
        "                    \n",
        "                    \n",
        "  \n",
        "                  else:\n",
        "                    \n",
        "                    \n",
        "                    res=cv2.add(train_mask[len(train_mask)-1],imgarr)\n",
        "                    ret,res = cv2.threshold(res,0,1,cv2.THRESH_BINARY)\n",
        "                    train_mask[len(train_mask)-1]=res\n",
        "                  \n",
        "  return train_mask\n",
        "train_breast_mask = create_Breast_mask_data('Train')\n",
        "test_breast_mask = create_Breast_mask_data('Test')"
      ],
      "id": "RWWwRXFY2iAS"
    },
    {
      "cell_type": "markdown",
      "metadata": {
        "id": "DfRXajz22eNg"
      },
      "source": [
        "#Preparing Data for models"
      ],
      "id": "DfRXajz22eNg"
    },
    {
      "cell_type": "code",
      "execution_count": null,
      "metadata": {
        "id": "7c746ed6"
      },
      "outputs": [],
      "source": [
        "test_breast_mask=np.asarray(test_breast_mask)   \n",
        "train_breast_mask=np.asarray(train_breast_mask)"
      ],
      "id": "7c746ed6"
    },
    {
      "cell_type": "code",
      "execution_count": null,
      "metadata": {
        "id": "3f90663d"
      },
      "outputs": [],
      "source": [
        "x_train=np.concatenate((Xtrain_brain,Xtrain_breast),axis=0)\n",
        "y_train=np.concatenate((Ytrain_brain,Ytrain_breast),axis=0)\n",
        "x_test=np.concatenate((Xtest_brain,Xtest_breast),axis=0)\n",
        "y_test=np.concatenate((Ytest_brain,Ytest_breast),axis=0)\n",
        "\n",
        "Ys1_test=y_test[:,0]         ## for first classification model\n",
        "Ys2_test = y_test[:,1]  "
      ],
      "id": "3f90663d"
    },
    {
      "cell_type": "code",
      "execution_count": null,
      "metadata": {
        "id": "dce50577"
      },
      "outputs": [],
      "source": [
        "\n",
        "X = np.array(x_train).reshape(-1, IMG_SIZE, IMG_SIZE, 3)\n",
        "\n",
        "Y = np.array(y_train)      \n",
        "\n",
        "Y1=Y[:,0]        # level 1 classification -> Y1 brain (0) or breast (1)\n",
        "Y2 = Y[:,1]      # level 2 classification -> Y2 = No tumor (0) - tumor (1) or  normal (0) - benign (1) - malignant (2)\n",
        "                  \n",
        "\n",
        "X,Y1=shuffle(X,Y1,random_state=0)"
      ],
      "id": "dce50577"
    },
    {
      "cell_type": "code",
      "execution_count": null,
      "metadata": {
        "id": "3u3Me9QPjo0L"
      },
      "outputs": [],
      "source": [
        "# Data for training second level classification\n",
        "\n",
        "X_Brain_Train=[]      # for breast classification: normal / benign / malignant\n",
        "Y_Brain_Train=[]  \n",
        "X_Breast_Train=[]     # for brain classification: tumor / no tumor   \n",
        "Y_Breast_Train=[]"
      ],
      "id": "3u3Me9QPjo0L"
    },
    {
      "cell_type": "code",
      "execution_count": null,
      "metadata": {
        "id": "t7b973E-i8O1"
      },
      "outputs": [],
      "source": [
        "_y=y_train[:,0]\n",
        "for i in range(len(x_train)):\n",
        "\n",
        "  if _y[i]==0 :\n",
        "    X_Brain_Train.append(x_train[i])\n",
        "    Y_Brain_Train.append(Y2[i])\n",
        "\n",
        "  else:\n",
        "\n",
        "    X_Breast_Train.append(x_train[i])\n",
        "    Y_Breast_Train.append(Y2[i])\n",
        "\n",
        "X_Brain_Train = np.array(X_Brain_Train).reshape(-1, IMG_SIZE, IMG_SIZE, 3)\n",
        "Y_Brain_Train= np.array(Y_Brain_Train)\n",
        "X_Breast_Train = np.array(X_Breast_Train).reshape(-1, IMG_SIZE, IMG_SIZE, 3)\n",
        "Y_Breast_Train= np.array(Y_Breast_Train)    \n"
      ],
      "id": "t7b973E-i8O1"
    },
    {
      "cell_type": "code",
      "execution_count": null,
      "metadata": {
        "id": "6LaztuZr5lXB"
      },
      "outputs": [],
      "source": [
        "# Data for training brain tumor segmentation\n",
        "\n",
        "y_brain_tumor=np.asarray(Ytrain_brain)\n",
        "y_brain_tumor=y_brain_tumor[:,1]\n",
        "x_brain_seg=[]\n",
        "i=0\n",
        "for label in y_brain_tumor:\n",
        "  if label==1:\n",
        "    x_brain_seg.append(Xtrain_brain[i])\n",
        "  i+=1"
      ],
      "id": "6LaztuZr5lXB"
    },
    {
      "cell_type": "code",
      "execution_count": null,
      "metadata": {
        "id": "CwIAJ_vCqmVj"
      },
      "outputs": [],
      "source": [
        "# Data for training breast tumor segmentation\n",
        "\n",
        "x_breast_seg=[]\n",
        "for i in range(len(X_Breast_Train)):\n",
        "  if Y_Breast_Train[i]!=0:\n",
        "    x_breast_seg.append(X_Breast_Train[i])\n",
        "\n",
        "x_breast_seg=np.asarray(x_breast_seg)\n"
      ],
      "id": "CwIAJ_vCqmVj"
    },
    {
      "cell_type": "code",
      "execution_count": null,
      "metadata": {
        "id": "M3RGEeX-qVtu"
      },
      "outputs": [],
      "source": [
        "# Data for testing second level classification\n",
        "\n",
        "X_Brain_Test=[]\n",
        "X_Breast_Test=[]\n",
        "Y_Brain_Test=[]\n",
        "Y_Breast_Test=[]"
      ],
      "id": "M3RGEeX-qVtu"
    },
    {
      "cell_type": "code",
      "execution_count": null,
      "metadata": {
        "id": "xC1CS9VAxWlx"
      },
      "outputs": [],
      "source": [
        "for i in range(len(x_test)):\n",
        "\n",
        "  if Ys1_test[i]==0 :\n",
        "    X_Brain_Test.append(x_test[i])\n",
        "    Y_Brain_Test.append(Ys2_test[i])\n",
        "\n",
        "  else:\n",
        "\n",
        "    X_Breast_Test.append(x_test[i])\n",
        "    Y_Breast_Test.append(Ys2_test[i])\n",
        "\n",
        "X_Brain_Test = np.array(X_Brain_Test).reshape(-1, IMG_SIZE, IMG_SIZE, 3)\n",
        "Y_Brain_Test= np.array(Y_Brain_Test)\n",
        "X_Breast_Test = np.array(X_Breast_Test).reshape(-1, IMG_SIZE, IMG_SIZE, 3)\n",
        "Y_Breast_Test= np.array(Y_Breast_Test)    \n"
      ],
      "id": "xC1CS9VAxWlx"
    },
    {
      "cell_type": "code",
      "execution_count": null,
      "metadata": {
        "id": "kxqd5hGaku28"
      },
      "outputs": [],
      "source": [
        "# Data for testing breast tumor segmentation\n",
        "x_breast_seg_test=[]\n",
        "for i in range(len(X_Breast_Test)):\n",
        "  if Y_Breast_Test[i]!=0:\n",
        "    x_breast_seg_test.append(X_Breast_Test[i])\n"
      ],
      "id": "kxqd5hGaku28"
    },
    {
      "cell_type": "code",
      "execution_count": null,
      "metadata": {
        "id": "Z2znkoNipb7K"
      },
      "outputs": [],
      "source": [
        "# Data for training brain tumor segmentation\n",
        "x_brain_seg_test=[]\n",
        "for i in range(len(X_Brain_Test)):\n",
        "  if Y_Brain_Test[i]!=0:\n",
        "    x_brain_seg_test.append(X_Brain_Test[i])\n",
        "# x_brain_seg_test=np.asarray(x_brain_seg_test)"
      ],
      "id": "Z2znkoNipb7K"
    },
    {
      "cell_type": "markdown",
      "metadata": {
        "id": "SYWh2z8TMSfA"
      },
      "source": [
        "# Visualizing Data"
      ],
      "id": "SYWh2z8TMSfA"
    },
    {
      "cell_type": "code",
      "execution_count": null,
      "metadata": {
        "colab": {
          "base_uri": "https://localhost:8080/"
        },
        "id": "yILpdeGkoqD8",
        "outputId": "9da10aa6-32f7-4e9b-e843-000e9b7622f6"
      },
      "outputs": [
        {
          "data": {
            "image/png": "[encoded data removed]",
            "text/plain": [
              "<PIL.Image.Image image mode=RGB size=224x224 at 0x7F0EC88CDB80>"
            ]
          },
          "metadata": {},
          "output_type": "display_data"
        },
        {
          "data": {
            "text/plain": [
              "-1"
            ]
          },
          "execution_count": 24,
          "metadata": {},
          "output_type": "execute_result"
        }
      ],
      "source": [
        "from google.colab.patches import cv2_imshow\n",
        "\n",
        "cv2_imshow(x_train[0])\n",
        "\n",
        "cv2.waitKey(0)\n"
      ],
      "id": "yILpdeGkoqD8"
    },
    {
      "cell_type": "code",
      "execution_count": null,
      "metadata": {
        "id": "OW7eisuoNaAU"
      },
      "outputs": [],
      "source": [
        "n=450"
      ],
      "id": "OW7eisuoNaAU"
    },
    {
      "cell_type": "code",
      "execution_count": null,
      "metadata": {
        "colab": {
          "base_uri": "https://localhost:8080/"
        },
        "id": "nfxWx5e65JcF",
        "outputId": "c657e69e-2686-4de5-d339-70cc246567f3"
      },
      "outputs": [
        {
          "data": {
            "image/png": "[encoded data removed]",
            "text/plain": [
              "<PIL.Image.Image image mode=RGB size=224x224 at 0x7F0EC7F4A790>"
            ]
          },
          "metadata": {},
          "output_type": "display_data"
        },
        {
          "name": "stdout",
          "output_type": "stream",
          "text": [
            "\n"
          ]
        }
      ],
      "source": [
        "from google.colab.patches import cv2_imshow\n",
        "\n",
        "\n",
        "cv2_imshow(x_brain_seg[n])\n",
        "\n",
        "cv2.waitKey(0)\n",
        "print()"
      ],
      "id": "nfxWx5e65JcF"
    },
    {
      "cell_type": "code",
      "execution_count": null,
      "metadata": {
        "colab": {
          "base_uri": "https://localhost:8080/"
        },
        "id": "GPfA2A3z79iv",
        "outputId": "95666432-b36e-4ea4-c006-1d0c27f47c50"
      },
      "outputs": [
        {
          "data": {
            "image/png": "[encoded data removed]",
            "text/plain": [
              "<PIL.Image.Image image mode=L size=224x224 at 0x7F0EC7F4ACD0>"
            ]
          },
          "metadata": {},
          "output_type": "display_data"
        },
        {
          "name": "stdout",
          "output_type": "stream",
          "text": [
            "\n"
          ]
        }
      ],
      "source": [
        "from google.colab.patches import cv2_imshow\n",
        "\n",
        "\n",
        "cv2_imshow(train_brain_mask[n]*255)\n",
        "\n",
        "cv2.waitKey(0)\n",
        "print()"
      ],
      "id": "GPfA2A3z79iv"
    },
    {
      "cell_type": "code",
      "execution_count": null,
      "metadata": {
        "colab": {
          "base_uri": "https://localhost:8080/"
        },
        "id": "DfJPhqea8XeF",
        "outputId": "8415dc3b-fe98-4da0-e117-06515cfa9d18"
      },
      "outputs": [
        {
          "data": {
            "image/png": "[encoded data removed]",
            "text/plain": [
              "<PIL.Image.Image image mode=RGB size=224x224 at 0x7F0EC7F80820>"
            ]
          },
          "metadata": {},
          "output_type": "display_data"
        },
        {
          "name": "stdout",
          "output_type": "stream",
          "text": [
            "\n"
          ]
        }
      ],
      "source": [
        "from google.colab.patches import cv2_imshow\n",
        "\n",
        "\n",
        "cv2_imshow(x_breast_seg[450])\n",
        "\n",
        "cv2.waitKey(0)\n",
        "print()"
      ],
      "id": "DfJPhqea8XeF"
    },
    {
      "cell_type": "code",
      "execution_count": null,
      "metadata": {
        "colab": {
          "base_uri": "https://localhost:8080/"
        },
        "id": "IDOLRvzd8bvI",
        "outputId": "c674cfb8-517b-4b21-b4ef-77d13af6feeb"
      },
      "outputs": [
        {
          "data": {
            "image/png": "[encoded data removed]",
            "text/plain": [
              "<PIL.Image.Image image mode=L size=224x224 at 0x7F0EC7F80A90>"
            ]
          },
          "metadata": {},
          "output_type": "display_data"
        },
        {
          "name": "stdout",
          "output_type": "stream",
          "text": [
            "\n"
          ]
        }
      ],
      "source": [
        "from google.colab.patches import cv2_imshow\n",
        "\n",
        "\n",
        "cv2_imshow(train_breast_mask[450]*255)\n",
        "\n",
        "cv2.waitKey(0)\n",
        "\n",
        "print()"
      ],
      "id": "IDOLRvzd8bvI"
    },
    {
      "cell_type": "markdown",
      "metadata": {
        "id": "rOV36dlU5M4l"
      },
      "source": [
        "# First Level Classification"
      ],
      "id": "rOV36dlU5M4l"
    },
    {
      "cell_type": "markdown",
      "metadata": {
        "id": "_XUH_cTMJkFl"
      },
      "source": [
        "## Best Model - ResNet50"
      ],
      "id": "_XUH_cTMJkFl"
    },
    {
      "cell_type": "code",
      "execution_count": null,
      "metadata": {
        "colab": {
          "base_uri": "https://localhost:8080/"
        },
        "id": "wXy9lrGFQ59v",
        "outputId": "ea09c1c2-84a7-406e-e88c-025d7ff15638"
      },
      "outputs": [
        {
          "name": "stdout",
          "output_type": "stream",
          "text": [
            "Downloading data from https://storage.googleapis.com/tensorflow/keras-applications/resnet/resnet50_weights_tf_dim_ordering_tf_kernels_notop.h5\n",
            "94765736/94765736 [==============================] - 1s 0us/step\n"
          ]
        }
      ],
      "source": [
        "# Model - ResNet50\n",
        "from keras.applications import ResNet50\n",
        "from keras import layers\n",
        "from keras.optimizers import Adam, RMSprop\n",
        "from keras.callbacks import EarlyStopping\n",
        "\n",
        "base_Neural_Net= ResNet50(input_shape=(IMG_SIZE,IMG_SIZE,3), weights='imagenet', include_top=False)\n",
        "model=Sequential()\n",
        "\n",
        "model.add(base_Neural_Net)\n",
        "model.add(Dropout(0.2))\n",
        "model.add(Flatten())\n",
        "model.add(BatchNormalization())\n",
        "model.add(Dense(256,kernel_initializer='he_uniform'))\n",
        "model.add(BatchNormalization())\n",
        "model.add(Activation('relu'))\n",
        "model.add(Dropout(0.3))\n",
        "model.add(Dense(1,activation='sigmoid'))\n",
        "\n",
        "for layer in base_Neural_Net.layers:\n",
        "    layer.trainable = False\n",
        "\n",
        "    \n",
        "model.compile(\n",
        "    loss='binary_crossentropy',\n",
        "    optimizer='adam',\n",
        "    metrics=['accuracy' , tf.keras.metrics.Recall(),tf.keras.metrics.Precision()]\n",
        ")\n",
        "\n",
        "es = EarlyStopping(\n",
        "    monitor='val_accuracy', \n",
        "    mode='max'\n",
        ")\n",
        "reduce_lr = tf.keras.callbacks.ReduceLROnPlateau(monitor='val_loss', factor=0.2,\n",
        "                              patience=3, min_lr=0.00001)\n",
        "\n"
      ],
      "id": "wXy9lrGFQ59v"
    },
    {
      "cell_type": "code",
      "execution_count": null,
      "metadata": {
        "colab": {
          "base_uri": "https://localhost:8080/"
        },
        "id": "lRZTocSDKo50",
        "outputId": "ba707013-7ba5-4693-b9e8-767884f8e196"
      },
      "outputs": [
        {
          "name": "stdout",
          "output_type": "stream",
          "text": [
            "Model: \"sequential\"\n",
            "_________________________________________________________________\n",
            " Layer (type)                Output Shape              Param #   \n",
            "=================================================================\n",
            " resnet50 (Functional)       (None, 7, 7, 2048)        23587712  \n",
            "                                                                 \n",
            " dropout (Dropout)           (None, 7, 7, 2048)        0         \n",
            "                                                                 \n",
            " flatten (Flatten)           (None, 100352)            0         \n",
            "                                                                 \n",
            " batch_normalization (BatchN  (None, 100352)           401408    \n",
            " ormalization)                                                   \n",
            "                                                                 \n",
            " dense (Dense)               (None, 256)               25690368  \n",
            "                                                                 \n",
            " batch_normalization_1 (Batc  (None, 256)              1024      \n",
            " hNormalization)                                                 \n",
            "                                                                 \n",
            " activation (Activation)     (None, 256)               0         \n",
            "                                                                 \n",
            " dropout_1 (Dropout)         (None, 256)               0         \n",
            "                                                                 \n",
            " dense_1 (Dense)             (None, 1)                 257       \n",
            "                                                                 \n",
            "=================================================================\n",
            "Total params: 49,680,769\n",
            "Trainable params: 25,891,841\n",
            "Non-trainable params: 23,788,928\n",
            "_________________________________________________________________\n"
          ]
        }
      ],
      "source": [
        "model.summary()"
      ],
      "id": "lRZTocSDKo50"
    },
    {
      "cell_type": "code",
      "execution_count": null,
      "metadata": {
        "colab": {
          "base_uri": "https://localhost:8080/"
        },
        "id": "2SmtMaLGKspN",
        "outputId": "27e68fba-75b8-4838-c826-a3e456017207"
      },
      "outputs": [
        {
          "data": {
            "image/png": "[encoded data removed]",
            "text/plain": [
              "<IPython.core.display.Image object>"
            ]
          },
          "execution_count": 32,
          "metadata": {},
          "output_type": "execute_result"
        }
      ],
      "source": [
        "plot_model(model, to_file='model_plot.png', show_shapes=True, show_layer_names=True)"
      ],
      "id": "2SmtMaLGKspN"
    },
    {
      "cell_type": "code",
      "execution_count": null,
      "metadata": {
        "colab": {
          "background_save": true,
          "base_uri": "https://localhost:8080/"
        },
        "id": "aTPjcQXgKkWn",
        "outputId": "c26c0f39-ae68-4ada-f798-1bb0d646cd99"
      },
      "outputs": [
        {
          "name": "stdout",
          "output_type": "stream",
          "text": [
            "Epoch 1/30\n",
            "50/50 [==============================] - 261s 5s/step - loss: 0.0273 - accuracy: 0.9874 - recall: 0.9891 - precision: 0.9801 - val_loss: 1.6645e-06 - val_accuracy: 1.0000 - val_recall: 1.0000 - val_precision: 1.0000 - lr: 0.0010\n",
            "Epoch 2/30\n",
            "50/50 [==============================] - 253s 5s/step - loss: 5.7872e-04 - accuracy: 1.0000 - recall: 1.0000 - precision: 1.0000 - val_loss: 2.7231e-05 - val_accuracy: 1.0000 - val_recall: 1.0000 - val_precision: 1.0000 - lr: 0.0010\n",
            "Epoch 3/30\n",
            "50/50 [==============================] - 253s 5s/step - loss: 9.5158e-04 - accuracy: 1.0000 - recall: 1.0000 - precision: 1.0000 - val_loss: 4.3346e-05 - val_accuracy: 1.0000 - val_recall: 1.0000 - val_precision: 1.0000 - lr: 0.0010\n",
            "Epoch 4/30\n",
            "50/50 [==============================] - 252s 5s/step - loss: 3.2425e-04 - accuracy: 1.0000 - recall: 1.0000 - precision: 1.0000 - val_loss: 4.8769e-05 - val_accuracy: 1.0000 - val_recall: 1.0000 - val_precision: 1.0000 - lr: 0.0010\n",
            "Epoch 5/30\n",
            "50/50 [==============================] - 262s 5s/step - loss: 1.7204e-04 - accuracy: 1.0000 - recall: 1.0000 - precision: 1.0000 - val_loss: 6.4240e-05 - val_accuracy: 1.0000 - val_recall: 1.0000 - val_precision: 1.0000 - lr: 2.0000e-04\n",
            "Epoch 6/30\n",
            "50/50 [==============================] - 259s 5s/step - loss: 2.4180e-04 - accuracy: 1.0000 - recall: 1.0000 - precision: 1.0000 - val_loss: 6.7364e-05 - val_accuracy: 1.0000 - val_recall: 1.0000 - val_precision: 1.0000 - lr: 2.0000e-04\n",
            "Epoch 7/30\n",
            "50/50 [==============================] - 264s 5s/step - loss: 3.0905e-04 - accuracy: 1.0000 - recall: 1.0000 - precision: 1.0000 - val_loss: 6.4167e-05 - val_accuracy: 1.0000 - val_recall: 1.0000 - val_precision: 1.0000 - lr: 2.0000e-04\n",
            "Epoch 8/30\n",
            "50/50 [==============================] - 258s 5s/step - loss: 3.4919e-04 - accuracy: 1.0000 - recall: 1.0000 - precision: 1.0000 - val_loss: 6.4474e-05 - val_accuracy: 1.0000 - val_recall: 1.0000 - val_precision: 1.0000 - lr: 4.0000e-05\n",
            "Epoch 9/30\n",
            "50/50 [==============================] - 255s 5s/step - loss: 2.4092e-04 - accuracy: 1.0000 - recall: 1.0000 - precision: 1.0000 - val_loss: 6.4210e-05 - val_accuracy: 1.0000 - val_recall: 1.0000 - val_precision: 1.0000 - lr: 4.0000e-05\n",
            "Epoch 10/30\n",
            "50/50 [==============================] - 253s 5s/step - loss: 3.2245e-04 - accuracy: 1.0000 - recall: 1.0000 - precision: 1.0000 - val_loss: 6.3372e-05 - val_accuracy: 1.0000 - val_recall: 1.0000 - val_precision: 1.0000 - lr: 4.0000e-05\n",
            "Epoch 11/30\n",
            "50/50 [==============================] - 253s 5s/step - loss: 3.9691e-04 - accuracy: 1.0000 - recall: 1.0000 - precision: 1.0000 - val_loss: 6.2896e-05 - val_accuracy: 1.0000 - val_recall: 1.0000 - val_precision: 1.0000 - lr: 1.0000e-05\n",
            "Epoch 12/30\n",
            "50/50 [==============================] - 253s 5s/step - loss: 1.8450e-04 - accuracy: 1.0000 - recall: 1.0000 - precision: 1.0000 - val_loss: 6.3106e-05 - val_accuracy: 1.0000 - val_recall: 1.0000 - val_precision: 1.0000 - lr: 1.0000e-05\n",
            "Epoch 13/30\n",
            "50/50 [==============================] - 253s 5s/step - loss: 0.0011 - accuracy: 1.0000 - recall: 1.0000 - precision: 1.0000 - val_loss: 5.9942e-05 - val_accuracy: 1.0000 - val_recall: 1.0000 - val_precision: 1.0000 - lr: 1.0000e-05\n",
            "Epoch 14/30\n",
            "50/50 [==============================] - 253s 5s/step - loss: 2.8692e-04 - accuracy: 1.0000 - recall: 1.0000 - precision: 1.0000 - val_loss: 6.0772e-05 - val_accuracy: 1.0000 - val_recall: 1.0000 - val_precision: 1.0000 - lr: 1.0000e-05\n",
            "Epoch 15/30\n",
            "50/50 [==============================] - 254s 5s/step - loss: 2.2562e-04 - accuracy: 1.0000 - recall: 1.0000 - precision: 1.0000 - val_loss: 6.1216e-05 - val_accuracy: 1.0000 - val_recall: 1.0000 - val_precision: 1.0000 - lr: 1.0000e-05\n",
            "Epoch 16/30\n",
            "50/50 [==============================] - 252s 5s/step - loss: 5.8150e-04 - accuracy: 1.0000 - recall: 1.0000 - precision: 1.0000 - val_loss: 5.9604e-05 - val_accuracy: 1.0000 - val_recall: 1.0000 - val_precision: 1.0000 - lr: 1.0000e-05\n",
            "Epoch 17/30\n",
            "50/50 [==============================] - 250s 5s/step - loss: 1.7604e-04 - accuracy: 1.0000 - recall: 1.0000 - precision: 1.0000 - val_loss: 6.0423e-05 - val_accuracy: 1.0000 - val_recall: 1.0000 - val_precision: 1.0000 - lr: 1.0000e-05\n",
            "Epoch 18/30\n",
            "50/50 [==============================] - 250s 5s/step - loss: 2.5683e-04 - accuracy: 1.0000 - recall: 1.0000 - precision: 1.0000 - val_loss: 6.0190e-05 - val_accuracy: 1.0000 - val_recall: 1.0000 - val_precision: 1.0000 - lr: 1.0000e-05\n",
            "Epoch 19/30\n",
            "50/50 [==============================] - 249s 5s/step - loss: 3.1094e-04 - accuracy: 1.0000 - recall: 1.0000 - precision: 1.0000 - val_loss: 6.0538e-05 - val_accuracy: 1.0000 - val_recall: 1.0000 - val_precision: 1.0000 - lr: 1.0000e-05\n",
            "Epoch 20/30\n",
            "50/50 [==============================] - 250s 5s/step - loss: 2.2259e-04 - accuracy: 1.0000 - recall: 1.0000 - precision: 1.0000 - val_loss: 6.0789e-05 - val_accuracy: 1.0000 - val_recall: 1.0000 - val_precision: 1.0000 - lr: 1.0000e-05\n",
            "Epoch 21/30\n",
            "50/50 [==============================] - 249s 5s/step - loss: 4.5613e-04 - accuracy: 1.0000 - recall: 1.0000 - precision: 1.0000 - val_loss: 5.9081e-05 - val_accuracy: 1.0000 - val_recall: 1.0000 - val_precision: 1.0000 - lr: 1.0000e-05\n",
            "Epoch 22/30\n",
            "50/50 [==============================] - 249s 5s/step - loss: 1.7600e-04 - accuracy: 1.0000 - recall: 1.0000 - precision: 1.0000 - val_loss: 5.9626e-05 - val_accuracy: 1.0000 - val_recall: 1.0000 - val_precision: 1.0000 - lr: 1.0000e-05\n",
            "Epoch 23/30\n",
            "50/50 [==============================] - 250s 5s/step - loss: 2.3407e-04 - accuracy: 1.0000 - recall: 1.0000 - precision: 1.0000 - val_loss: 5.9945e-05 - val_accuracy: 1.0000 - val_recall: 1.0000 - val_precision: 1.0000 - lr: 1.0000e-05\n",
            "Epoch 24/30\n",
            "50/50 [==============================] - 249s 5s/step - loss: 2.0854e-04 - accuracy: 1.0000 - recall: 1.0000 - precision: 1.0000 - val_loss: 5.9614e-05 - val_accuracy: 1.0000 - val_recall: 1.0000 - val_precision: 1.0000 - lr: 1.0000e-05\n",
            "Epoch 25/30\n",
            "50/50 [==============================] - 250s 5s/step - loss: 4.8148e-04 - accuracy: 1.0000 - recall: 1.0000 - precision: 1.0000 - val_loss: 5.7696e-05 - val_accuracy: 1.0000 - val_recall: 1.0000 - val_precision: 1.0000 - lr: 1.0000e-05\n",
            "Epoch 26/30\n",
            "50/50 [==============================] - 249s 5s/step - loss: 4.4228e-04 - accuracy: 1.0000 - recall: 1.0000 - precision: 1.0000 - val_loss: 5.5934e-05 - val_accuracy: 1.0000 - val_recall: 1.0000 - val_precision: 1.0000 - lr: 1.0000e-05\n",
            "Epoch 27/30\n",
            "50/50 [==============================] - 249s 5s/step - loss: 3.6092e-04 - accuracy: 1.0000 - recall: 1.0000 - precision: 1.0000 - val_loss: 5.6615e-05 - val_accuracy: 1.0000 - val_recall: 1.0000 - val_precision: 1.0000 - lr: 1.0000e-05\n",
            "Epoch 28/30\n",
            "50/50 [==============================] - 249s 5s/step - loss: 1.5976e-04 - accuracy: 1.0000 - recall: 1.0000 - precision: 1.0000 - val_loss: 5.6340e-05 - val_accuracy: 1.0000 - val_recall: 1.0000 - val_precision: 1.0000 - lr: 1.0000e-05\n",
            "Epoch 29/30\n",
            "29/50 [================>.............] - ETA: 1:25 - loss: 2.8689e-04 - accuracy: 1.0000 - recall: 1.0000 - precision: 1.0000"
          ]
        }
      ],
      "source": [
        "\n",
        "\n",
        "start = dt.now()\n",
        "history = model.fit(\n",
        "    X, Y1,\n",
        "    steps_per_epoch=50,\n",
        "    epochs=30,\n",
        "    validation_split=0.2,verbose=1,callbacks=[reduce_lr]\n",
        ")\n",
        "running_secs = (dt.now() - start).seconds\n",
        "score = model.evaluate(x_test, Ys1_test, verbose=1)\n",
        "\n"
      ],
      "id": "aTPjcQXgKkWn"
    },
    {
      "cell_type": "code",
      "execution_count": null,
      "metadata": {
        "id": "YKorvI5zQnJM"
      },
      "outputs": [],
      "source": [
        "#@title Training Time\n",
        "print(str(datetime.timedelta(seconds=running_secs)))"
      ],
      "id": "YKorvI5zQnJM"
    },
    {
      "cell_type": "code",
      "execution_count": null,
      "metadata": {
        "id": "sOvyK3WVK9wM"
      },
      "outputs": [],
      "source": [
        "#@title Model Performance \n",
        "\n",
        "pf=[[min(history.history['loss']),min(history.history['val_loss']),max(history.history['accuracy']),max(history.history['val_accuracy']),max(history.history['recall']),max(history.history['val_recall'])]]\n",
        "performance = pd.DataFrame(pf)\n",
        "performance.columns=['Minimum training loss','Minimum Val. Loss','Maximum training accuracy','Maximum val. accuracy','Max training recall','Max val. recall']\n",
        "\n",
        "performance = performance.style.set_table_styles([dict(selector='th', props=[('text-align', 'center')])])\n",
        "performance.set_properties(**{'text-align': 'center'}).hide_index()"
      ],
      "id": "sOvyK3WVK9wM"
    },
    {
      "cell_type": "code",
      "execution_count": null,
      "metadata": {
        "id": "NPcnGjMwK9wN"
      },
      "outputs": [],
      "source": [
        "#@title Test Perfomance\n",
        "pf=[[score[0],score[1],score[2],score[3]]]\n",
        "performance = pd.DataFrame(pf)\n",
        "performance.columns=['Test loss','Test accuracy','Recall','Precision']\n",
        "performance = performance.style.set_table_styles([dict(selector='th', props=[('text-align', 'center')])])\n",
        "performance.set_properties(**{'text-align': 'center'}).hide_index()"
      ],
      "id": "NPcnGjMwK9wN"
    },
    {
      "cell_type": "code",
      "execution_count": null,
      "metadata": {
        "id": "ntjR9fBdTUAY"
      },
      "outputs": [],
      "source": [
        "Ys1_pred=model.predict(x_test)\n",
        "y_pred = Ys1_pred>0.5\n",
        "y_pred = y_pred.astype(int)\n",
        "cf_matrix = confusion_matrix(y_pred, Ys1_test)\n",
        "sns.heatmap(cf_matrix, annot=True,fmt=\"d\",cmap='Blues')"
      ],
      "id": "ntjR9fBdTUAY"
    },
    {
      "cell_type": "code",
      "execution_count": null,
      "metadata": {
        "cellView": "form",
        "id": "coOUXedOK9wO"
      },
      "outputs": [],
      "source": [
        "#@title Visualization of some performance metrics\n",
        "plt.plot(history.history['accuracy'])\n",
        "plt.plot(history.history['val_accuracy'])\n",
        "plt.title('model accuracy')\n",
        "plt.ylabel('accuracy')\n",
        "plt.xlabel('epoch')\n",
        "plt.legend(['train', 'validation'], loc='upper left')\n",
        "plt.show()\n",
        "\n",
        "\n",
        "plt.plot(history.history['loss'])\n",
        "plt.plot(history.history['val_loss'])\n",
        "plt.title('model loss')\n",
        "plt.ylabel('loss')\n",
        "plt.xlabel('epoch')\n",
        "plt.legend(['train', 'validation'], loc='upper left')\n",
        "plt.show()"
      ],
      "id": "coOUXedOK9wO"
    },
    {
      "cell_type": "markdown",
      "metadata": {
        "id": "JxlHQu-2JyH1"
      },
      "source": [
        "## Inecption V3"
      ],
      "id": "JxlHQu-2JyH1"
    },
    {
      "cell_type": "code",
      "execution_count": null,
      "metadata": {
        "id": "b6KtdsYEJ4Qt"
      },
      "outputs": [],
      "source": [
        "# create the base pre-trained model\n",
        "base_model = InceptionV3(weights='imagenet', include_top=False)\n",
        "\n",
        "\n",
        "x = base_model.output\n",
        "# add a global spatial average pooling layer\n",
        "x = GlobalAveragePooling2D()(x)\n",
        "# let's add a fully-connected layer\n",
        "x = Dense(1024, activation='relu')(x)\n",
        "\n",
        "#x = preprocess_input(x)\n",
        "\n",
        "# and a logistic layer -- let's say we have 200 classes\n",
        "predictions = Dense(1, activation='sigmoid')(x)\n",
        "\n",
        "#print(decode_predictions(predictions, top=5)) \n",
        "\n",
        "# this is the model we will train\n",
        "model = Model(inputs=base_model.input, outputs=predictions)\n",
        "\n",
        "# first: train only the top layers (which were randomly initialized)\n",
        "# i.e. freeze all convolutional InceptionV3 layers\n",
        "for layer in base_model.layers:\n",
        "    layer.trainable = False\n",
        "\n",
        "# compile the model (should be done *after* setting layers to non-trainable)\n",
        "model.compile(optimizer=Adam(learning_rate=0.001), loss='binary_crossentropy',metrics=['accuracy',tf.keras.metrics.Recall(),tf.keras.metrics.Precision()])\n"
      ],
      "id": "b6KtdsYEJ4Qt"
    },
    {
      "cell_type": "code",
      "execution_count": null,
      "metadata": {
        "id": "fydyBmDQKy5s"
      },
      "outputs": [],
      "source": [
        "model.summary()"
      ],
      "id": "fydyBmDQKy5s"
    },
    {
      "cell_type": "code",
      "execution_count": null,
      "metadata": {
        "id": "fb646b87"
      },
      "outputs": [],
      "source": [
        "# train \n",
        "start = dt.now()\n",
        "history=model.fit(X, Y1, batch_size=32, epochs=15, validation_split=0.2,verbose=1)\n",
        "start = dt.now()\n",
        "# test\n",
        "score = model.evaluate(x_test, Ys1_test, verbose=1)\n"
      ],
      "id": "fb646b87"
    },
    {
      "cell_type": "code",
      "execution_count": null,
      "metadata": {
        "id": "0DMs8LApXewE"
      },
      "outputs": [],
      "source": [
        "#@title Training Time\n",
        "print(str(datetime.timedelta(seconds=running_secs)))"
      ],
      "id": "0DMs8LApXewE"
    },
    {
      "cell_type": "code",
      "execution_count": null,
      "metadata": {
        "id": "Wjbs9eBci0g7"
      },
      "outputs": [],
      "source": [
        "#@title Model Performance \n",
        "\n",
        "pf=[[min(history.history['loss']),min(history.history['val_loss']),max(history.history['accuracy']),max(history.history['val_accuracy']),max(history.history['recall_1']),max(history.history['val_recall_1'])]]\n",
        "performance = pd.DataFrame(pf)\n",
        "performance.columns=['Minimum training loss','Minimum Val. Loss','Maximum training accuracy','Maximum val. accuracy','Max training recall','Max val. recall']\n",
        "\n",
        "performance = performance.style.set_table_styles([dict(selector='th', props=[('text-align', 'center')])])\n",
        "performance.set_properties(**{'text-align': 'center'}).hide_index()"
      ],
      "id": "Wjbs9eBci0g7"
    },
    {
      "cell_type": "code",
      "execution_count": null,
      "metadata": {
        "id": "lyGeOZh4I8Cz"
      },
      "outputs": [],
      "source": [
        "#@title Test Perfomance\n",
        "print(f'Test loss: {score[0]} \\nTest accuracy: {score[1]}\\nRecall: {score[2]}\\nPrecision: {score[3]}')\n",
        "pf=[[score[0],score[1],score[2],score[3]]]\n",
        "performance = pd.DataFrame(pf)\n",
        "performance.columns=['Test loss','Test accuracy','Recall','Precision']\n"
      ],
      "id": "lyGeOZh4I8Cz"
    },
    {
      "cell_type": "code",
      "execution_count": null,
      "metadata": {
        "id": "8wW2kOzaXHUI"
      },
      "outputs": [],
      "source": [
        "Ys1_pred=model.predict(x_test)\n",
        "y_pred = Ys1_pred>0.5\n",
        "y_pred = y_pred.astype(int)\n",
        "cf_matrix = confusion_matrix(y_pred, Ys1_test)\n",
        "sns.heatmap(cf_matrix, annot=True,fmt=\"d\",cmap='Blues')"
      ],
      "id": "8wW2kOzaXHUI"
    },
    {
      "cell_type": "markdown",
      "metadata": {
        "id": "zaRmo3-2CRni"
      },
      "source": [
        "# Brain Classification Tumor / No Tumor\n",
        "    "
      ],
      "id": "zaRmo3-2CRni"
    },
    {
      "cell_type": "code",
      "execution_count": null,
      "metadata": {
        "id": "eNsAqv9FR_bh"
      },
      "outputs": [],
      "source": [
        "X_Brain_Train,Y_Brain_Train=shuffle(X_Brain_Train,Y_Brain_Train, random_state=0)"
      ],
      "id": "eNsAqv9FR_bh"
    },
    {
      "cell_type": "code",
      "execution_count": null,
      "metadata": {
        "id": "1cPWYYzv0iei"
      },
      "outputs": [],
      "source": [
        "# Model - ResNet50\n",
        "from keras.applications import ResNet50\n",
        "from keras import layers\n",
        "from keras.optimizers import Adam, RMSprop\n",
        "from keras.callbacks import EarlyStopping\n",
        "\n",
        "base_Neural_Net= ResNet50(input_shape=(IMG_SIZE,IMG_SIZE,3), weights='imagenet', include_top=False)\n",
        "model=Sequential()\n",
        "\n",
        "model.add(base_Neural_Net)\n",
        "model.add(Dropout(0.2))\n",
        "model.add(Flatten())\n",
        "model.add(BatchNormalization())\n",
        "model.add(Dense(256,kernel_initializer='he_uniform'))\n",
        "model.add(BatchNormalization())\n",
        "model.add(Activation('relu'))\n",
        "model.add(Dropout(0.3))\n",
        "model.add(Dense(1,activation='sigmoid'))\n",
        "\n",
        "for layer in base_Neural_Net.layers:\n",
        "    layer.trainable = False\n",
        "\n",
        "    \n",
        "model.compile(\n",
        "    loss='binary_crossentropy',\n",
        "    optimizer='adam',\n",
        "    metrics=['accuracy' , tf.keras.metrics.Recall(),tf.keras.metrics.Precision()]\n",
        ")\n",
        "\n",
        "es = EarlyStopping(\n",
        "    monitor='val_accuracy', \n",
        "    mode='max'\n",
        ")\n",
        "reduce_lr = tf.keras.callbacks.ReduceLROnPlateau(monitor='val_loss', factor=0.2,\n",
        "                              patience=3, min_lr=0.00001)\n",
        "\n"
      ],
      "id": "1cPWYYzv0iei"
    },
    {
      "cell_type": "code",
      "execution_count": null,
      "metadata": {
        "id": "BsT2lB96YSIA"
      },
      "outputs": [],
      "source": [
        "model.summary()\n"
      ],
      "id": "BsT2lB96YSIA"
    },
    {
      "cell_type": "code",
      "execution_count": null,
      "metadata": {
        "id": "PwvnT6trYSPn"
      },
      "outputs": [],
      "source": [
        "plot_model(model, to_file='model_plot.png', show_shapes=True, show_layer_names=True)"
      ],
      "id": "PwvnT6trYSPn"
    },
    {
      "cell_type": "code",
      "execution_count": null,
      "metadata": {
        "id": "cbi3fSZ_X9i7"
      },
      "outputs": [],
      "source": [
        "start = dt.now()\n",
        "history = model.fit(\n",
        "    X_Brain_Train, Y_Brain_Train,\n",
        "    steps_per_epoch=50,\n",
        "    epochs=30,\n",
        "    validation_split=0.2,verbose=1,callbacks=[reduce_lr]\n",
        ")\n",
        "running_secs = (dt.now() - start).seconds\n",
        "\n",
        "score = model.evaluate(X_Brain_Test, Y_Brain_Test, verbose=1)"
      ],
      "id": "cbi3fSZ_X9i7"
    },
    {
      "cell_type": "code",
      "execution_count": null,
      "metadata": {
        "id": "uuaU4M8CYeZc"
      },
      "outputs": [],
      "source": [
        "#@title Training Time\n",
        "print(str(datetime.timedelta(seconds=running_secs)))"
      ],
      "id": "uuaU4M8CYeZc"
    },
    {
      "cell_type": "code",
      "execution_count": null,
      "metadata": {
        "id": "qT_oMENDc14m"
      },
      "outputs": [],
      "source": [
        "model.save('Brain_class.h5')\n",
        "model1 = load_model('Brain_class.h5')"
      ],
      "id": "qT_oMENDc14m"
    },
    {
      "cell_type": "code",
      "execution_count": null,
      "metadata": {
        "id": "y76qO14YFPQf"
      },
      "outputs": [],
      "source": [
        "#@title Model Performance \n",
        "\n",
        "pf=[[min(history.history['loss']),min(history.history['val_loss']),max(history.history['accuracy']),max(history.history['val_accuracy']),max(history.history['recall_2']),max(history.history['val_recall_2'])]]\n",
        "performance = pd.DataFrame(pf)\n",
        "performance.columns=['Minimum training loss','Minimum Val. Loss','Maximum training accuracy','Maximum val. accuracy','Max training recall','Max val. recall']\n",
        "\n",
        "performance = performance.style.set_table_styles([dict(selector='th', props=[('text-align', 'center')])])\n",
        "performance.set_properties(**{'text-align': 'center'}).hide_index()"
      ],
      "id": "y76qO14YFPQf"
    },
    {
      "cell_type": "code",
      "execution_count": null,
      "metadata": {
        "id": "eB-UloHYVqGk"
      },
      "outputs": [],
      "source": [
        "#@title Test Perfomance\n",
        "print(f'Test loss: {score[0]} \\nTest accuracy: {score[1]}\\nRecall: {score[2]}\\nPrecision: {score[3]}')\n",
        "pf=[[score[0],score[1],score[2],score[3]]]\n",
        "performance = pd.DataFrame(pf)\n",
        "performance.columns=['Test loss','Test accuracy','Recall','Precision']\n",
        "performance = performance.style.set_table_styles([dict(selector='th', props=[('text-align', 'center')])])\n",
        "performance.set_properties(**{'text-align': 'center'}).hide_index()"
      ],
      "id": "eB-UloHYVqGk"
    },
    {
      "cell_type": "code",
      "execution_count": null,
      "metadata": {
        "id": "bYL9xLALxs-u"
      },
      "outputs": [],
      "source": [
        "YB = model.predict(X_Brain_Test)\n",
        "y_pred_brain = YB>0.5\n",
        "y_pred_brain = y_pred_brain.astype(int)"
      ],
      "id": "bYL9xLALxs-u"
    },
    {
      "cell_type": "code",
      "execution_count": null,
      "metadata": {
        "id": "AXy0jxg1xr6a"
      },
      "outputs": [],
      "source": [
        "cf_matrix = confusion_matrix(y_pred_brain, Y_Brain_Test)\n",
        "sns.heatmap(cf_matrix, annot=True,fmt=\"d\",cmap='Blues')"
      ],
      "id": "AXy0jxg1xr6a"
    },
    {
      "cell_type": "code",
      "execution_count": null,
      "metadata": {
        "id": "FgF413x5FV-m"
      },
      "outputs": [],
      "source": [
        "#@title Visualization of some performance metrics\n",
        "plt.plot(history.history['accuracy'])\n",
        "plt.plot(history.history['val_accuracy'])\n",
        "plt.title('model accuracy')\n",
        "plt.ylabel('accuracy')\n",
        "plt.xlabel('epoch')\n",
        "plt.legend(['train', 'validation'], loc='upper left')\n",
        "plt.show()\n",
        "\n",
        "\n",
        "plt.plot(history.history['loss'])\n",
        "plt.plot(history.history['val_loss'])\n",
        "plt.title('model loss')\n",
        "plt.ylabel('loss')\n",
        "plt.xlabel('epoch')\n",
        "plt.legend(['train', 'validation'], loc='upper left')\n",
        "plt.show()"
      ],
      "id": "FgF413x5FV-m"
    },
    {
      "cell_type": "markdown",
      "metadata": {
        "id": "tNIGKb47Bfs3"
      },
      "source": [
        "#Breast Classification\n"
      ],
      "id": "tNIGKb47Bfs3"
    },
    {
      "cell_type": "code",
      "execution_count": null,
      "metadata": {
        "id": "Pns76Ma0BfH3"
      },
      "outputs": [],
      "source": [
        "Y_Breast_Train=encode(Y_Breast_Train)\n"
      ],
      "id": "Pns76Ma0BfH3"
    },
    {
      "cell_type": "code",
      "execution_count": null,
      "metadata": {
        "id": "1raWmcTiwelG"
      },
      "outputs": [],
      "source": [
        "X_Breast_Train,Y_Breast_Train=shuffle(X_Breast_Train,Y_Breast_Train, random_state=0)"
      ],
      "id": "1raWmcTiwelG"
    },
    {
      "cell_type": "code",
      "execution_count": null,
      "metadata": {
        "id": "0X2E4dijIZwL"
      },
      "outputs": [],
      "source": [
        "Y_Breast_Test=np.asarray(Y_Breast_Test)\n",
        "Y_Breast_Test=encode(Y_Breast_Test)"
      ],
      "id": "0X2E4dijIZwL"
    },
    {
      "cell_type": "code",
      "execution_count": null,
      "metadata": {
        "id": "V9eWElNtHj8s"
      },
      "outputs": [],
      "source": [
        "## checking for imbalance\n",
        "print(\"Breast - Normal: \",len(normal_train))\n",
        "print(\"Breast - Benign: \",len(benign_train))\n",
        "print(\"Breast - Malignant: \",len(malignant_train))"
      ],
      "id": "V9eWElNtHj8s"
    },
    {
      "cell_type": "markdown",
      "metadata": {
        "id": "OvJcIOltHHn5"
      },
      "source": [
        "### High Imbalance in breast data -> Trying upsampling"
      ],
      "id": "OvJcIOltHHn5"
    },
    {
      "cell_type": "code",
      "execution_count": null,
      "metadata": {
        "id": "bNKnsDtYx787"
      },
      "outputs": [],
      "source": [
        "from sklearn.utils import resample\n",
        "normal_train = resample(normal_train, \n",
        "                                 replace=True,   \n",
        "                                 n_samples=397)\n",
        "malignant_train = resample(malignant_train,\n",
        "                                 replace=True,     \n",
        "                                 n_samples=397)"
      ],
      "id": "bNKnsDtYx787"
    },
    {
      "cell_type": "code",
      "execution_count": null,
      "metadata": {
        "id": "JmBoOiSNIh-Y"
      },
      "outputs": [],
      "source": [
        "## after upsampling\n",
        "print(\"Breast - Normal: \",len(normal_train))\n",
        "print(\"Breast - Benign: \",len(benign_train))\n",
        "print(\"Breast - Malignant: \",len(malignant_train))"
      ],
      "id": "JmBoOiSNIh-Y"
    },
    {
      "cell_type": "code",
      "execution_count": null,
      "metadata": {
        "id": "rbT_hWGEzIDV"
      },
      "outputs": [],
      "source": [
        "normal_Y = (np.concatenate(((np.ones((397,1))),np.zeros((397,1))),axis=1)).astype(int)\n",
        "benign_Y = (np.concatenate(((np.ones((397,1))),np.ones((397,1))),axis=1)).astype(int)\n",
        "malignant_Y = (np.concatenate(((np.ones((397,1))),(np.full((397, 1), 2, dtype=int))),axis=1)).astype(int)"
      ],
      "id": "rbT_hWGEzIDV"
    },
    {
      "cell_type": "code",
      "execution_count": null,
      "metadata": {
        "id": "T6sjQjFb8H9x"
      },
      "outputs": [],
      "source": [
        "benign_Y=np.asarray(benign_Y)"
      ],
      "id": "T6sjQjFb8H9x"
    },
    {
      "cell_type": "code",
      "execution_count": null,
      "metadata": {
        "id": "6tYKhulSzKwV"
      },
      "outputs": [],
      "source": [
        "classification_breast_X = np.concatenate((np.array(normal_train),np.array(benign_train),np.array(malignant_train)),axis=0)\n",
        "classification_breast_Y = np.concatenate((np.array(normal_Y[:,1]),np.array(benign_Y[:,1]),np.array(malignant_Y[:,1])),axis=0)"
      ],
      "id": "6tYKhulSzKwV"
    },
    {
      "cell_type": "code",
      "execution_count": null,
      "metadata": {
        "id": "h35TV8lBzOJW"
      },
      "outputs": [],
      "source": [
        "\n",
        "classification_breast_Y=encode(classification_breast_Y)\n",
        "classification_breast_X,classification_breast_Y=shuffle(classification_breast_X,classification_breast_Y, random_state=42)\n",
        "classification_breast_Y.shape\n"
      ],
      "id": "h35TV8lBzOJW"
    },
    {
      "cell_type": "code",
      "execution_count": null,
      "metadata": {
        "id": "YfEPjgmqJ7ZH"
      },
      "outputs": [],
      "source": [
        "Y_Breast_Test.shape"
      ],
      "id": "YfEPjgmqJ7ZH"
    },
    {
      "cell_type": "markdown",
      "metadata": {
        "id": "jhvcXdDQKbCe"
      },
      "source": [
        "# BREAST CLASSIFICATION - Trying different Architectures "
      ],
      "id": "jhvcXdDQKbCe"
    },
    {
      "cell_type": "markdown",
      "metadata": {
        "id": "axLudgdiKyDH"
      },
      "source": [
        "##ResNet50"
      ],
      "id": "axLudgdiKyDH"
    },
    {
      "cell_type": "code",
      "execution_count": null,
      "metadata": {
        "id": "xFjaKMabBn13"
      },
      "outputs": [],
      "source": [
        "\n",
        "from keras.applications import ResNet50\n",
        "from keras import layers\n",
        "from keras.optimizers import Adam, RMSprop\n",
        "from keras.callbacks import EarlyStopping\n",
        "\n",
        "base_Neural_Net= ResNet50(input_shape=(IMG_SIZE,IMG_SIZE,3), weights='imagenet', include_top=False)\n",
        "model=Sequential()\n",
        "model.add(base_Neural_Net)\n",
        "model.add(Dropout(0.3))\n",
        "model.add(Flatten())\n",
        "model.add(BatchNormalization())\n",
        "model.add(Dense(256,kernel_initializer='he_uniform'))\n",
        "model.add(BatchNormalization())\n",
        "model.add(Activation('relu'))\n",
        "model.add(Dropout(0.5))\n",
        "model.add(Dense(3,activation='softmax'))\n",
        "\n",
        "for layer in base_Neural_Net.layers:\n",
        "    layer.trainable = False\n",
        "\n",
        "    \n",
        "model.compile(\n",
        "    loss='categorical_crossentropy',\n",
        "    optimizer='adam',\n",
        "\n",
        "    metrics=['accuracy' , tf.keras.metrics.Recall(),tf.keras.metrics.Precision()]\n",
        ")\n",
        "\n",
        "\n",
        "es = EarlyStopping(\n",
        "    monitor='val_accuracy', \n",
        "    mode='max'\n",
        ")\n",
        "reduce_lr = tf.keras.callbacks.ReduceLROnPlateau(monitor='val_loss', factor=0.2,\n",
        "                              patience=3, min_lr=0.00001)\n",
        "history = model.fit(\n",
        "    X_Breast_Train, Y_Breast_Train,\n",
        "    steps_per_epoch=50,\n",
        "    epochs=30,\n",
        "    validation_split=0.1,verbose=1,\n",
        "callbacks=[reduce_lr])\n",
        "model.summary()\n",
        "score = model.evaluate(X_Breast_Test, Y_Breast_Test, verbose=1)\n",
        "print(f'Test loss: {score[0]} / Test accuracy: {score[1]}, Recall: {score[2]}, Precision: {score[3]}')\n",
        "\n"
      ],
      "id": "xFjaKMabBn13"
    },
    {
      "cell_type": "code",
      "execution_count": null,
      "metadata": {
        "id": "5lnEiwc2Fmap"
      },
      "outputs": [],
      "source": [
        "#@title Model Performance \n",
        "\n",
        "pf=[[min(history.history['loss']),min(history.history['val_loss']),max(history.history['accuracy']),max(history.history['val_accuracy']),max(history.history['recall_3']),max(history.history['val_recall_3'])]]\n",
        "performance = pd.DataFrame(pf)\n",
        "performance.columns=['Minimum training loss','Minimum Val. Loss','Maximum training accuracy','Maximum val. accuracy','Max training recall','Max val. recall']\n",
        "\n",
        "performance = performance.style.set_table_styles([dict(selector='th', props=[('text-align', 'center')])])\n",
        "performance.set_properties(**{'text-align': 'center'}).hide_index()"
      ],
      "id": "5lnEiwc2Fmap"
    },
    {
      "cell_type": "code",
      "execution_count": null,
      "metadata": {
        "id": "RJYuMA8kKo0h"
      },
      "outputs": [],
      "source": [
        "#@title Testing\n",
        "score = model.evaluate(X_Breast_Test, Y_Breast_Test, verbose=1)\n",
        "print(f'Test loss: {score[0]}\\nTest accuracy: {score[1]}\\nRecall: {score[2]}\\nPrecision: {score[3]}')"
      ],
      "id": "RJYuMA8kKo0h"
    },
    {
      "cell_type": "markdown",
      "metadata": {
        "id": "HNxqZ-74KTZM"
      },
      "source": [
        "##ResNet152V2"
      ],
      "id": "HNxqZ-74KTZM"
    },
    {
      "cell_type": "code",
      "execution_count": null,
      "metadata": {
        "id": "q0SSnv44VPGZ"
      },
      "outputs": [],
      "source": [
        "\n",
        "model=tf.keras.applications.ResNet152V2(\n",
        "    include_top=False,\n",
        "    weights=\"imagenet\",\n",
        "    input_shape=(IMG_SIZE,IMG_SIZE,3),\n",
        "    pooling=None,\n",
        "    classes=3,\n",
        "    classifier_activation=\"softmax\",\n",
        ")\n",
        "model=Sequential()\n",
        "model.add(base_Neural_Net)\n",
        "model.add(Dropout(0.3))\n",
        "model.add(Flatten())\n",
        "model.add(BatchNormalization())\n",
        "model.add(Dense(256,kernel_initializer='he_uniform'))\n",
        "model.add(BatchNormalization())\n",
        "model.add(Activation('relu'))\n",
        "model.add(Dropout(0.5))\n",
        "model.add(Dense(3,activation='softmax'))\n",
        "model.compile(\n",
        "    loss='categorical_crossentropy',\n",
        "    optimizer='adam',\n",
        "    metrics=['accuracy' , tf.keras.metrics.Recall(),tf.keras.metrics.Precision()]\n",
        ")\n",
        "\n",
        "\n",
        "\n",
        "\n",
        "history = model.fit(\n",
        "    X_Breast_Train, Y_Breast_Train,\n",
        "    steps_per_epoch=50,\n",
        "    epochs=30,\n",
        "    validation_split=0.1,verbose=1,callbacks=[reduce_lr])\n",
        "\n",
        "score = model.evaluate(X_Breast_Test, Y_Breast_Test, verbose=1)\n",
        "print(f'Test loss: {score[0]} / Test accuracy: {score[1]}, Recall: {score[2]}, Precision: {score[3]}')\n"
      ],
      "id": "q0SSnv44VPGZ"
    },
    {
      "cell_type": "code",
      "execution_count": null,
      "metadata": {
        "id": "CETpChhfI2UB"
      },
      "outputs": [],
      "source": [
        "#@title Model Performance \n",
        "\n",
        "pf=[[min(history.history['loss']),min(history.history['val_loss']),max(history.history['accuracy']),max(history.history['val_accuracy']),max(history.history['recall_4']),max(history.history['val_recall_4'])]]\n",
        "performance = pd.DataFrame(pf)\n",
        "performance.columns=['Minimum training loss','Minimum Val. Loss','Maximum training accuracy','Maximum val. accuracy','Max training recall','Max val. recall']\n",
        "\n",
        "performance = performance.style.set_table_styles([dict(selector='th', props=[('text-align', 'center')])])\n",
        "performance.set_properties(**{'text-align': 'center'}).hide_index()"
      ],
      "id": "CETpChhfI2UB"
    },
    {
      "cell_type": "code",
      "execution_count": null,
      "metadata": {
        "id": "YJefgCycJ8z0"
      },
      "outputs": [],
      "source": [
        "#@title Testing\n",
        "score = model.evaluate(X_Breast_Test, Y_Breast_Test, verbose=1)\n",
        "print(f'Test loss: {score[0]}\\nTest accuracy: {score[1]}\\nRecall: {score[2]}\\nPrecision: {score[3]}')"
      ],
      "id": "YJefgCycJ8z0"
    },
    {
      "cell_type": "markdown",
      "metadata": {
        "id": "O8yQ3FfhKNpY"
      },
      "source": [
        "##DenseNet"
      ],
      "id": "O8yQ3FfhKNpY"
    },
    {
      "cell_type": "code",
      "execution_count": null,
      "metadata": {
        "id": "VavYBUgG7dvN"
      },
      "outputs": [],
      "source": [
        "\n",
        "## evaluate\n",
        "\n",
        "pretrained_densenet = tf.keras.applications.DenseNet201(input_shape=(IMG_SIZE, IMG_SIZE, 3), weights='imagenet', include_top=False)\n",
        "\n",
        "for layer in pretrained_densenet.layers:\n",
        "  layer.trainable = True\n",
        "\n",
        "x1 = pretrained_densenet.output\n",
        "x1 = tf.keras.layers.Dropout(0.2, name=\"dropout_head_1\")(x1)\n",
        "x1 = tf.keras.layers.AveragePooling2D(name=\"averagepooling2d_head\")(x1)\n",
        "x1 = tf.keras.layers.Flatten(name=\"flatten_head\")(x1)\n",
        "x1 = tf.keras.layers.Dense(64, activation=\"relu\", name=\"dense_head\")(x1)\n",
        "x1 = tf.keras.layers.Dropout(0.2, name=\"dropout_head_2\")(x1)\n",
        "model_out = tf.keras.layers.Dense(3, activation='softmax', name=\"predictions_head\")(x1)\n",
        "\n",
        "model_densenet = Model(inputs=pretrained_densenet.input, outputs=model_out)\n",
        "model_densenet.compile(optimizer='adam',loss='categorical_crossentropy',metrics=['accuracy' , tf.keras.metrics.Recall(),tf.keras.metrics.Precision()])\n",
        "\n",
        "reduce_lr = tf.keras.callbacks.ReduceLROnPlateau(monitor='val_loss', factor=0.3,\n",
        "                              patience=3, min_lr=0.0000001)\n",
        "\n",
        "history=model_densenet.fit(X_Breast_Train, Y_Breast_Train,epochs=80,validation_split=0.05,verbose=1,callbacks=[reduce_lr])\n"
      ],
      "id": "VavYBUgG7dvN"
    },
    {
      "cell_type": "code",
      "execution_count": null,
      "metadata": {
        "id": "aFFn5A0GI27N"
      },
      "outputs": [],
      "source": [
        "#@title Model Performance \n",
        "\n",
        "pf=[[min(history.history['loss']),min(history.history['val_loss']),max(history.history['accuracy']),max(history.history['val_accuracy']),max(history.history['recall_5']),max(history.history['val_recall_5'])]]\n",
        "performance = pd.DataFrame(pf)\n",
        "performance.columns=['Minimum training loss','Minimum Val. Loss','Maximum training accuracy','Maximum val. accuracy','Max training recall','Max val. recall']\n",
        "\n",
        "performance = performance.style.set_table_styles([dict(selector='th', props=[('text-align', 'center')])])\n",
        "performance.set_properties(**{'text-align': 'center'}).hide_index()"
      ],
      "id": "aFFn5A0GI27N"
    },
    {
      "cell_type": "code",
      "execution_count": null,
      "metadata": {
        "id": "nTL4znGDKeKg"
      },
      "outputs": [],
      "source": [
        "#@title Testing\n",
        "score = model_densenet.evaluate(X_Breast_Test, Y_Breast_Test, verbose=1)\n",
        "print(f'Test loss: {score[0]}\\nTest accuracy: {score[1]}\\nRecall: {score[2]}\\nPrecision: {score[3]}')"
      ],
      "id": "nTL4znGDKeKg"
    },
    {
      "cell_type": "markdown",
      "metadata": {
        "id": "oRZ8mSJBnsSB"
      },
      "source": [
        "#BEST MODEL FOR BREAST CLASS. - MobileNet"
      ],
      "id": "oRZ8mSJBnsSB"
    },
    {
      "cell_type": "markdown",
      "metadata": {
        "id": "S6_DiMgeL2xj"
      },
      "source": [
        "## Using Upsampled Data"
      ],
      "id": "S6_DiMgeL2xj"
    },
    {
      "cell_type": "code",
      "execution_count": null,
      "metadata": {
        "id": "CoyREa5i0BqX"
      },
      "outputs": [],
      "source": [
        "\n",
        "from keras.applications import MobileNet\n",
        "base_model=MobileNet(weights='imagenet',include_top=False) #imports the mobilenet model and discards the last 1000 neuron layer.\n",
        "\n",
        "x=base_model.output\n",
        "x=GlobalAveragePooling2D()(x)\n",
        "x=Dense(1024,activation='relu')(x) #we add dense layers so that the model can learn more complex functions and classify for better results.\n",
        "x=Dense(1024,activation='relu')(x) #dense layer 2\n",
        "x=Dense(512,activation='relu')(x) #dense layer 3\n",
        "preds=Dense(3,activation='softmax')(x) #final layer with softmax activation\n",
        "\n",
        "model=Model(inputs=base_model.input,outputs=preds)\n",
        "\n",
        "model.compile(optimizer='Adam',loss='categorical_crossentropy',metrics=['accuracy' , tf.keras.metrics.Recall(),tf.keras.metrics.Precision()])\n",
        "\n",
        "\n",
        "\n"
      ],
      "id": "CoyREa5i0BqX"
    },
    {
      "cell_type": "code",
      "execution_count": null,
      "metadata": {
        "id": "3_j83U1cZkmV"
      },
      "outputs": [],
      "source": [
        "model.summary()"
      ],
      "id": "3_j83U1cZkmV"
    },
    {
      "cell_type": "code",
      "execution_count": null,
      "metadata": {
        "id": "61sVtrLxZmnl"
      },
      "outputs": [],
      "source": [
        "plot_model(model, to_file='model_plot.png', show_shapes=True, show_layer_names=True)"
      ],
      "id": "61sVtrLxZmnl"
    },
    {
      "cell_type": "code",
      "execution_count": null,
      "metadata": {
        "id": "yeBU-rQZZigq"
      },
      "outputs": [],
      "source": [
        "start = dt.now()\n",
        "history=model.fit(classification_breast_X, classification_breast_Y,epochs=40,validation_split=0.05,verbose=1,callbacks=[reduce_lr])\n",
        "running_secs = (dt.now() - start).seconds\n",
        "score = model.evaluate(X_Breast_Test, Y_Breast_Test, verbose=1)"
      ],
      "id": "yeBU-rQZZigq"
    },
    {
      "cell_type": "code",
      "execution_count": null,
      "metadata": {
        "id": "S5w3k1szZehm"
      },
      "outputs": [],
      "source": [
        "#@title Training Time\n",
        "print(str(datetime.timedelta(seconds=running_secs)))"
      ],
      "id": "S5w3k1szZehm"
    },
    {
      "cell_type": "code",
      "execution_count": null,
      "metadata": {
        "id": "HJMy5GimZehn"
      },
      "outputs": [],
      "source": [
        "#@title Model Performance \n",
        "\n",
        "pf=[[min(history.history['loss']),min(history.history['val_loss']),max(history.history['accuracy']),max(history.history['val_accuracy']),max(history.history['recall_6']),max(history.history['val_recall_6'])]]\n",
        "performance = pd.DataFrame(pf)\n",
        "performance.columns=['Minimum training loss','Minimum Val. Loss','Maximum training accuracy','Maximum val. accuracy','Max training recall','Max val. recall']\n",
        "\n",
        "performance = performance.style.set_table_styles([dict(selector='th', props=[('text-align', 'center')])])\n",
        "performance.set_properties(**{'text-align': 'center'}).hide_index()"
      ],
      "id": "HJMy5GimZehn"
    },
    {
      "cell_type": "code",
      "execution_count": null,
      "metadata": {
        "id": "EEpJXnT-Zehn"
      },
      "outputs": [],
      "source": [
        "#@title Test Perfomance\n",
        "pf=[[score[0],score[1],score[2],score[3]]]\n",
        "performance = pd.DataFrame(pf)\n",
        "performance.columns=['Test loss','Test accuracy','Recall','Precision']\n",
        "performance = performance.style.set_table_styles([dict(selector='th', props=[('text-align', 'center')])])\n",
        "performance.set_properties(**{'text-align': 'center'}).hide_index()"
      ],
      "id": "EEpJXnT-Zehn"
    },
    {
      "cell_type": "code",
      "execution_count": null,
      "metadata": {
        "id": "66Qs3Ru4UOfj"
      },
      "outputs": [],
      "source": [
        "YBT = np.argmax(Y_Breast_Test,axis=1)\n"
      ],
      "id": "66Qs3Ru4UOfj"
    },
    {
      "cell_type": "code",
      "execution_count": null,
      "metadata": {
        "id": "jm_GELSAf1Yu"
      },
      "outputs": [],
      "source": [
        "YB = model.predict(X_Breast_Test)\n",
        "YPB=np.argmax(YB,axis=1)\n",
        "cf_matrix = confusion_matrix(YPB, YBT)\n",
        "sns.heatmap(cf_matrix, annot=True,fmt=\"d\",cmap='Blues')"
      ],
      "id": "jm_GELSAf1Yu"
    },
    {
      "cell_type": "code",
      "execution_count": null,
      "metadata": {
        "id": "rAoPQ9NcIwBj"
      },
      "outputs": [],
      "source": [
        "#@title Visualization of some performance metrics\n",
        "plt.plot(history.history['accuracy'])\n",
        "plt.plot(history.history['val_accuracy'])\n",
        "plt.title('model accuracy')\n",
        "plt.ylabel('accuracy')\n",
        "plt.xlabel('epoch')\n",
        "plt.legend(['train', 'validation'], loc='upper left')\n",
        "plt.show()\n",
        "\n",
        "\n",
        "plt.plot(history.history['loss'])\n",
        "plt.plot(history.history['val_loss'])\n",
        "plt.title('model loss')\n",
        "plt.ylabel('loss')\n",
        "plt.xlabel('epoch')\n",
        "plt.legend(['train', 'validation'], loc='upper left')\n",
        "plt.show()"
      ],
      "id": "rAoPQ9NcIwBj"
    },
    {
      "cell_type": "markdown",
      "metadata": {
        "id": "Hl-LLhJ0MGcs"
      },
      "source": [
        "## Without Upsampling"
      ],
      "id": "Hl-LLhJ0MGcs"
    },
    {
      "cell_type": "code",
      "execution_count": null,
      "metadata": {
        "id": "Ov2yeQ_6mTg_"
      },
      "outputs": [],
      "source": [
        "from keras.applications import MobileNet\n",
        "base_model=MobileNet(input_shape=(IMG_SIZE,IMG_SIZE,3),weights='imagenet',include_top=False) #imports the mobilenet model and discards the last 1000 neuron layer.\n",
        "\n",
        "x=base_model.output\n",
        "x=GlobalAveragePooling2D()(x)\n",
        "x=Dense(1024,activation='relu')(x) #we add dense layers so that the model can learn more complex functions and classify for better results.\n",
        "x=Dense(1024,activation='relu')(x) #dense layer 2\n",
        "x=Dense(512,activation='relu')(x) #dense layer 3\n",
        "preds=Dense(3,activation='softmax')(x) #final layer with softmax activation\n",
        "\n",
        "model=Model(inputs=base_model.input,outputs=preds)\n",
        "\n",
        "model.compile(optimizer='Adam',loss='categorical_crossentropy',metrics=['accuracy' , tf.keras.metrics.Recall(),tf.keras.metrics.Precision()])\n",
        "# Adam optimizer\n",
        "# loss function will be categorical cross entropy\n",
        "# evaluation metric will be accuracy\n",
        "reduce_lr = tf.keras.callbacks.ReduceLROnPlateau(monitor='val_loss', factor=0.3,\n",
        "                              patience=3, min_lr=0.0000001)\n"
      ],
      "id": "Ov2yeQ_6mTg_"
    },
    {
      "cell_type": "code",
      "execution_count": null,
      "metadata": {
        "id": "Z7OfBeqFhpVe"
      },
      "outputs": [],
      "source": [
        "model.summary()"
      ],
      "id": "Z7OfBeqFhpVe"
    },
    {
      "cell_type": "code",
      "execution_count": null,
      "metadata": {
        "id": "lWnjfxqlhrYl"
      },
      "outputs": [],
      "source": [
        "plot_model(model, to_file='model_plot.png', show_shapes=True, show_layer_names=True)"
      ],
      "id": "lWnjfxqlhrYl"
    },
    {
      "cell_type": "code",
      "execution_count": null,
      "metadata": {
        "id": "01PhcP3Ehyom"
      },
      "outputs": [],
      "source": [
        "start = dt.now()\n",
        "history=model.fit(X_Breast_Train, Y_Breast_Train,epochs=40,validation_split=0.05,verbose=1,callbacks=[reduce_lr])\n",
        "running_secs = (dt.now() - start).seconds\n",
        "score = model.evaluate(X_Breast_Test, Y_Breast_Test, verbose=1)"
      ],
      "id": "01PhcP3Ehyom"
    },
    {
      "cell_type": "code",
      "execution_count": null,
      "metadata": {
        "id": "wOPgC07ELEj8"
      },
      "outputs": [],
      "source": [
        "#@title Model Performance \n",
        "\n",
        "pf=[[min(history.history['loss']),min(history.history['val_loss']),max(history.history['accuracy']),max(history.history['val_accuracy']),max(history.history['recall_7']),max(history.history['val_recall_7'])]]\n",
        "performance = pd.DataFrame(pf)\n",
        "performance.columns=['Minimum training loss','Minimum Val. Loss','Maximum training accuracy','Maximum val. accuracy','Max training recall','Max val. recall']\n",
        "\n",
        "performance = performance.style.set_table_styles([dict(selector='th', props=[('text-align', 'center')])])\n",
        "performance.set_properties(**{'text-align': 'center'}).hide_index()"
      ],
      "id": "wOPgC07ELEj8"
    },
    {
      "cell_type": "code",
      "execution_count": null,
      "metadata": {
        "id": "mv7YcA5Yg4nL"
      },
      "outputs": [],
      "source": [
        "#@title Test Perfomance\n",
        "print(f'Test loss: {score[0]} \\nTest accuracy: {score[1]}\\nRecall: {score[2]}\\nPrecision: {score[3]}')\n",
        "pf=[[score[0],score[1],score[2],score[3]]]\n",
        "performance = pd.DataFrame(pf)\n",
        "performance.columns=['Test loss','Test accuracy','Recall','Precision']\n",
        "performance = performance.style.set_table_styles([dict(selector='th', props=[('text-align', 'center')])])\n",
        "performance.set_properties(**{'text-align': 'center'}).hide_index()"
      ],
      "id": "mv7YcA5Yg4nL"
    },
    {
      "cell_type": "code",
      "execution_count": null,
      "metadata": {
        "id": "qd4UA2Xhg4nN"
      },
      "outputs": [],
      "source": [
        "YBT = np.argmax(Y_Breast_Test,axis=1)"
      ],
      "id": "qd4UA2Xhg4nN"
    },
    {
      "cell_type": "code",
      "execution_count": null,
      "metadata": {
        "id": "1RSBqxegg4nO"
      },
      "outputs": [],
      "source": [
        "YB = model.predict(X_Breast_Test)\n",
        "\n",
        "YPB=np.argmax(YB,axis=1)\n",
        "cf_matrix = confusion_matrix(YPB, YBT)\n",
        "sns.heatmap(cf_matrix, annot=True,fmt=\"d\",cmap='Blues')"
      ],
      "id": "1RSBqxegg4nO"
    },
    {
      "cell_type": "code",
      "execution_count": null,
      "metadata": {
        "cellView": "form",
        "id": "F4HWZkqKg4nO"
      },
      "outputs": [],
      "source": [
        "#@title Visualization of some performance metrics\n",
        "plt.plot(history.history['accuracy'])\n",
        "plt.plot(history.history['val_accuracy'])\n",
        "plt.title('model accuracy')\n",
        "plt.ylabel('accuracy')\n",
        "plt.xlabel('epoch')\n",
        "plt.legend(['train', 'validation'], loc='upper left')\n",
        "plt.show()\n",
        "\n",
        "\n",
        "plt.plot(history.history['loss'])\n",
        "plt.plot(history.history['val_loss'])\n",
        "plt.title('model loss')\n",
        "plt.ylabel('loss')\n",
        "plt.xlabel('epoch')\n",
        "plt.legend(['train', 'validation'], loc='upper left')\n",
        "plt.show()"
      ],
      "id": "F4HWZkqKg4nO"
    },
    {
      "cell_type": "markdown",
      "metadata": {
        "id": "FyPhMQPn4LMy"
      },
      "source": [
        "\n",
        "#SEGMENTATION"
      ],
      "id": "FyPhMQPn4LMy"
    },
    {
      "cell_type": "code",
      "execution_count": null,
      "metadata": {
        "id": "JrAxA9yYvXXL"
      },
      "outputs": [],
      "source": [
        "def dice_coef(y_true, y_pred, smooth=1):\n",
        "    y_true_f = K.flatten(y_true)\n",
        "    y_pred_f = K.flatten(y_pred)\n",
        "    intersection = K.sum(y_true_f * y_pred_f)\n",
        "    return (2. * intersection + smooth) / (K.sum(y_true_f) + K.sum(y_pred_f) + smooth)\n"
      ],
      "id": "JrAxA9yYvXXL"
    },
    {
      "cell_type": "code",
      "execution_count": null,
      "metadata": {
        "id": "YQmFEAk2ea3v"
      },
      "outputs": [],
      "source": [
        "y_brain_tumor=np.asarray(Ytrain_brain)\n",
        "y_brain_tumor=y_brain_tumor[:,1]\n"
      ],
      "id": "YQmFEAk2ea3v"
    },
    {
      "cell_type": "code",
      "execution_count": null,
      "metadata": {
        "id": "5b7uHEWwADer"
      },
      "outputs": [],
      "source": [
        "x_brain_seg=np.asarray(x_brain_seg)\n",
        "train_brain_mask=np.asarray(train_brain_mask)\n",
        "x_brain_seg,train_brain_mask  = shuffle(x_brain_seg,train_brain_mask, random_state=0)"
      ],
      "id": "5b7uHEWwADer"
    },
    {
      "cell_type": "code",
      "execution_count": null,
      "metadata": {
        "id": "QMrXpONsEZoe"
      },
      "outputs": [],
      "source": [
        "x_brain_seg_test=np.asarray(x_brain_seg_test)"
      ],
      "id": "QMrXpONsEZoe"
    },
    {
      "cell_type": "code",
      "execution_count": null,
      "metadata": {
        "id": "bCRpG9iyIM25"
      },
      "outputs": [],
      "source": [
        "x_brain_seg=x_brain_seg/255\n",
        "x_brain_seg_test=x_brain_seg_test/255"
      ],
      "id": "bCRpG9iyIM25"
    },
    {
      "cell_type": "code",
      "execution_count": null,
      "metadata": {
        "id": "ji7BfpjoiChf"
      },
      "outputs": [],
      "source": [
        "x_breast_seg_test=np.asarray(x_breast_seg_test)\n",
        "train_brain_mask=np.asarray(train_brain_mask)"
      ],
      "id": "ji7BfpjoiChf"
    },
    {
      "cell_type": "code",
      "execution_count": null,
      "metadata": {
        "id": "WXLxU8WzH0NC"
      },
      "outputs": [],
      "source": [
        "train_brain_mask=train_brain_mask.reshape(-1,IMG_SIZE,IMG_SIZE,1)"
      ],
      "id": "WXLxU8WzH0NC"
    },
    {
      "cell_type": "code",
      "execution_count": null,
      "metadata": {
        "id": "8HpZ_r-aoaXD"
      },
      "outputs": [],
      "source": [
        "x_breast_seg_test=np.asarray(x_breast_seg_test)"
      ],
      "id": "8HpZ_r-aoaXD"
    },
    {
      "cell_type": "code",
      "execution_count": null,
      "metadata": {
        "id": "qQ5SaRXy6gDQ"
      },
      "outputs": [],
      "source": [
        "x_brain_seg.shape"
      ],
      "id": "qQ5SaRXy6gDQ"
    },
    {
      "cell_type": "code",
      "execution_count": null,
      "metadata": {
        "id": "PYWkj3n0ems2"
      },
      "outputs": [],
      "source": [
        "test_brain_mask=np.array(test_brain_mask)\n"
      ],
      "id": "PYWkj3n0ems2"
    },
    {
      "cell_type": "code",
      "execution_count": null,
      "metadata": {
        "id": "CK4fp_38peVB"
      },
      "outputs": [],
      "source": [
        "!pip install segmentation_models"
      ],
      "id": "CK4fp_38peVB"
    },
    {
      "cell_type": "markdown",
      "metadata": {
        "id": "e4L6_umBphSw"
      },
      "source": [
        "## Pretrained Unet + ResNet34"
      ],
      "id": "e4L6_umBphSw"
    },
    {
      "cell_type": "code",
      "execution_count": null,
      "metadata": {
        "id": "dTupUzrPpux5"
      },
      "outputs": [],
      "source": [
        "import segmentation_models as sm\n",
        "\n",
        "BACKBONE = 'resnet34'\n",
        "preprocess_input = sm.get_preprocessing(BACKBONE)\n",
        "\n",
        "# load your data\n",
        "\n",
        "# preprocess input\n",
        "x_brain_seg = preprocess_input(x_brain_seg)\n",
        "\n",
        "#x_val = preprocess_input(x_val)\n",
        "\n",
        "# define model\n",
        "model = sm.Unet(BACKBONE, input_shape=(224, 224, 3),encoder_weights='imagenet',classes=1, activation='sigmoid')\n",
        "model.compile(\n",
        "    'Adam',\n",
        "    loss='binary_crossentropy',\n",
        "    metrics=[tf.keras.metrics.BinaryIoU(target_class_ids=[0, 1], threshold=0.3),dice_coef],\n",
        ")\n",
        "\n",
        "\n"
      ],
      "id": "dTupUzrPpux5"
    },
    {
      "cell_type": "code",
      "execution_count": null,
      "metadata": {
        "id": "KB4OehlQk2KV"
      },
      "outputs": [],
      "source": [
        "model.summary()"
      ],
      "id": "KB4OehlQk2KV"
    },
    {
      "cell_type": "code",
      "execution_count": null,
      "metadata": {
        "id": "Z9G8letJk3qC"
      },
      "outputs": [],
      "source": [
        "plot_model(model, to_file='model_plot.png', show_shapes=True, show_layer_names=True)"
      ],
      "id": "Z9G8letJk3qC"
    },
    {
      "cell_type": "code",
      "execution_count": null,
      "metadata": {
        "id": "7WhWnyYWk0Uy"
      },
      "outputs": [],
      "source": [
        "start = dt.now()\n",
        "history=model.fit(tf.expand_dims(x_brain_seg, axis=-1),train_brain_mask,validation_split=0.1,batch_size=16,epochs=50)\n",
        "running_secs = (dt.now() - start).seconds\n",
        "score = model.evaluate(x_brain_seg_test, test_brain_mask, verbose=1)"
      ],
      "id": "7WhWnyYWk0Uy"
    },
    {
      "cell_type": "code",
      "execution_count": null,
      "metadata": {
        "cellView": "form",
        "id": "xwASmO6iltT6"
      },
      "outputs": [],
      "source": [
        "#@title Training Time\n",
        "print(str(datetime.timedelta(seconds=running_secs)))"
      ],
      "id": "xwASmO6iltT6"
    },
    {
      "cell_type": "code",
      "execution_count": null,
      "metadata": {
        "id": "CX1yLW1CknQH"
      },
      "outputs": [],
      "source": [
        "model.save('Brain_seggg.h5')\n",
        "model1 = load_model('Brain_seggg.h5',custom_objects={'dice_coef':dice_coef})"
      ],
      "id": "CX1yLW1CknQH"
    },
    {
      "cell_type": "code",
      "execution_count": null,
      "metadata": {
        "cellView": "form",
        "id": "TZx0BKuisYVa"
      },
      "outputs": [],
      "source": [
        "#@title Model Performance \n",
        "\n",
        "pf=[[max(history.history['loss']),max(history.history['val_loss']),max(history.history['binary_io_u']),max(history.history['val_binary_io_u']),max(history.history['dice_coef']),max(history.history['val_dice_coef'])]]\n",
        "performance = pd.DataFrame(pf)\n",
        "performance.columns=['Max. training loss','Minimum Val. Loss','Maximum training IoU','Maximum val. accuracy','Max Dice coef','Max Dice coef']\n",
        "\n",
        "performance"
      ],
      "id": "TZx0BKuisYVa"
    },
    {
      "cell_type": "code",
      "execution_count": null,
      "metadata": {
        "id": "koh1R3B1ra2Z"
      },
      "outputs": [],
      "source": [
        "#@title Test Perfomance\n",
        "\n",
        "pf= [[score[0],score[1],score[2]]]\n",
        "performance = pd.DataFrame(pf)\n",
        "performance.columns=['Test loss','IoU','Dice Coef']\n",
        "performance = performance.style.set_table_styles([dict(selector='th', props=[('text-align', 'center')])])\n",
        "performance.set_properties(**{'text-align': 'center'}).hide_index()"
      ],
      "id": "koh1R3B1ra2Z"
    },
    {
      "cell_type": "code",
      "execution_count": null,
      "metadata": {
        "cellView": "form",
        "id": "B9iMChdN0w9A"
      },
      "outputs": [],
      "source": [
        "#@title Visualization of some performance metrics\n",
        "print(history.history.keys())\n",
        "# summarize history for accuracy\n",
        "plt.plot(history.history['loss'])\n",
        "plt.plot(history.history['val_loss'])\n",
        "plt.title('model loss')\n",
        "plt.ylabel('loss')\n",
        "plt.xlabel('epoch')\n",
        "plt.legend(['train', 'test'], loc='upper left')\n",
        "plt.show()\n",
        "# summarize history for loss\n",
        "plt.plot(history.history['binary_io_u'])\n",
        "plt.plot(history.history['val_binary_io_u'])\n",
        "plt.title('model IoU')\n",
        "plt.ylabel('IoU')\n",
        "plt.xlabel('epoch')\n",
        "plt.legend(['train', 'test'], loc='upper left')\n",
        "plt.show()"
      ],
      "id": "B9iMChdN0w9A"
    },
    {
      "cell_type": "code",
      "execution_count": null,
      "metadata": {
        "id": "sJpOOKZfQeNq"
      },
      "outputs": [],
      "source": [
        "## Display a random output from test data\n",
        "n=66\n",
        "output=model.predict(x_brain_seg_test)\n",
        "output_=binarize_mask(output[n]*255)\n",
        "print('\\nImage\\n')\n",
        "\n",
        "cv2_imshow(x_brain_seg_test[n]*255)\n",
        "\n",
        "cv2.waitKey(0)\n",
        "x_breast_seg_test\n",
        "print(\"\\nReal Mask\\n\")\n",
        "\n",
        "\n",
        "cv2_imshow(test_brain_mask[n]*255)\n",
        "\n",
        "cv2.waitKey(0)\n",
        "\n",
        "print('\\nwidth:', sum((test_brain_mask[n]> 0).any(axis=0)))\n",
        "print('height:', sum((test_brain_mask[n]> 0).any(axis=1)))\n",
        "\n",
        "print(\"\\n\\nPredicted Mask\\n\")\n",
        "cv2_imshow(output_*255)\n",
        "\n",
        "cv2.waitKey(0)\n",
        "\n",
        "print('\\nwidth:', sum((output_> 0).any(axis=0)))\n",
        "print('height:', sum((output_> 0).any(axis=1)))"
      ],
      "id": "sJpOOKZfQeNq"
    },
    {
      "cell_type": "markdown",
      "metadata": {
        "id": "WNXwTldNjyK-"
      },
      "source": [
        "#BREAST SEGMENTATION"
      ],
      "id": "WNXwTldNjyK-"
    },
    {
      "cell_type": "code",
      "execution_count": null,
      "metadata": {
        "id": "hT5TGbtfmrf1"
      },
      "outputs": [],
      "source": [
        "x_breast_seg=np.asarray(x_breast_seg)\n",
        "train_breast_mask=np.asarray(train_breast_mask)"
      ],
      "id": "hT5TGbtfmrf1"
    },
    {
      "cell_type": "code",
      "execution_count": null,
      "metadata": {
        "id": "tWvn3-6uCg0u"
      },
      "outputs": [],
      "source": [
        "x_breast_seg_test=np.asarray(x_breast_seg_test)\n",
        "test_breast_mask=np.asarray(test_breast_mask)"
      ],
      "id": "tWvn3-6uCg0u"
    },
    {
      "cell_type": "code",
      "execution_count": null,
      "metadata": {
        "id": "qQ3hYOxgChFy"
      },
      "outputs": [],
      "source": [
        "x_breast_seg=x_breast_seg/255\n",
        "x_breast_seg_test=x_breast_seg_test/255"
      ],
      "id": "qQ3hYOxgChFy"
    },
    {
      "cell_type": "code",
      "execution_count": null,
      "metadata": {
        "id": "Pk2oC6QN_5Fy"
      },
      "outputs": [],
      "source": [
        "x_breast_seg,train_breast_mask=shuffle(x_breast_seg,train_breast_mask,random_state=42)\n"
      ],
      "id": "Pk2oC6QN_5Fy"
    },
    {
      "cell_type": "markdown",
      "metadata": {
        "id": "M8BTBGv5w59G"
      },
      "source": [
        "## Pretrained UNet + EfficientNetB2"
      ],
      "id": "M8BTBGv5w59G"
    },
    {
      "cell_type": "code",
      "execution_count": null,
      "metadata": {
        "id": "lV1WXhH9j2O6"
      },
      "outputs": [],
      "source": [
        "import segmentation_models as sm\n",
        "\n",
        "BACKBONE = 'efficientnetb2'  \n",
        "preprocess_input = sm.get_preprocessing(BACKBONE)\n",
        "\n",
        "\n",
        "\n",
        "# preprocess input\n",
        "X_Breast_Train = preprocess_input(X_Breast_Train)\n",
        "\n",
        "\n",
        "# define model\n",
        "model = sm.Unet(BACKBONE, encoder_weights='imagenet',classes=1, activation='sigmoid')\n",
        "model.compile(\n",
        "    'Adam',\n",
        "    loss='binary_crossentropy',\n",
        "    metrics=[tf.keras.metrics.BinaryIoU(target_class_ids=[0, 1], threshold=0.3),dice_coef],\n",
        ")\n",
        "reduce_lr = tf.keras.callbacks.ReduceLROnPlateau(monitor='val_loss', factor=0.3,\n",
        "                              patience=3, min_lr=0.0000001)\n",
        "train_breast_mask=tf.cast(train_breast_mask, tf.float32)\n"
      ],
      "id": "lV1WXhH9j2O6"
    },
    {
      "cell_type": "code",
      "execution_count": null,
      "metadata": {
        "id": "8QsIc-LJxKOM"
      },
      "outputs": [],
      "source": [
        "model.summary()"
      ],
      "id": "8QsIc-LJxKOM"
    },
    {
      "cell_type": "code",
      "execution_count": null,
      "metadata": {
        "id": "VmiqM5VfxHZM"
      },
      "outputs": [],
      "source": [
        "# fit model\n",
        "start = dt.now()\n",
        "history=model.fit(\n",
        "   x_breast_seg,\n",
        "   train_breast_mask,\n",
        "   batch_size=16,\n",
        "   epochs=45,\n",
        "   validation_split=0.1,\n",
        "   verbose=1,callbacks=[reduce_lr])\n",
        "running_secs = (dt.now() - start).seconds\n",
        "score = model.evaluate(x_breast_seg_test, test_breast_mask, verbose=1)"
      ],
      "id": "VmiqM5VfxHZM"
    },
    {
      "cell_type": "code",
      "execution_count": null,
      "metadata": {
        "id": "CWQVXoj7x-sz"
      },
      "outputs": [],
      "source": [
        "#@title Training Time\n",
        "print(str(datetime.timedelta(seconds=running_secs)))"
      ],
      "id": "CWQVXoj7x-sz"
    },
    {
      "cell_type": "code",
      "execution_count": null,
      "metadata": {
        "id": "3d1Y1Arnx-s0"
      },
      "outputs": [],
      "source": [
        "model.save('Breast_seg.h5')\n",
        "model1 = load_model('Breast_seg.h5',custom_objects={'dice_coef':dice_coef})"
      ],
      "id": "3d1Y1Arnx-s0"
    },
    {
      "cell_type": "code",
      "execution_count": null,
      "metadata": {
        "id": "nW6JqYmIx-s0"
      },
      "outputs": [],
      "source": [
        "#@title Model Performance \n",
        "\n",
        "pf=[[max(history.history['loss']),max(history.history['val_loss']),max(history.history['binary_io_u_1']),max(history.history['val_binary_io_u_1']),max(history.history['dice_coef']),max(history.history['val_dice_coef'])]]\n",
        "performance = pd.DataFrame(pf)\n",
        "performance.columns=['Max. training loss','Minimum Val. Loss','Maximum training IoU','Maximum val. accuracy','Max Dice coef','Max Dice coef']\n",
        "\n",
        "performance"
      ],
      "id": "nW6JqYmIx-s0"
    },
    {
      "cell_type": "code",
      "execution_count": null,
      "metadata": {
        "id": "81jvz-fEx-s0"
      },
      "outputs": [],
      "source": [
        "#@title Visualization of some performance metrics\n",
        "print(history.history.keys())\n",
        "# summarize history for accuracy\n",
        "plt.plot(history.history['loss'])\n",
        "plt.plot(history.history['val_loss'])\n",
        "plt.title('model loss')\n",
        "plt.ylabel('loss')\n",
        "plt.xlabel('epoch')\n",
        "plt.legend(['train', 'test'], loc='upper left')\n",
        "plt.show()\n",
        "# summarize history for loss\n",
        "plt.plot(history.history['binary_io_u_1'])\n",
        "plt.plot(history.history['val_binary_io_u_1'])\n",
        "plt.title('model IoU')\n",
        "plt.ylabel('IoU')\n",
        "plt.xlabel('epoch')\n",
        "plt.legend(['train', 'test'], loc='upper left')\n",
        "plt.show()"
      ],
      "id": "81jvz-fEx-s0"
    },
    {
      "cell_type": "code",
      "execution_count": null,
      "metadata": {
        "id": "STy-2kTUx-s1"
      },
      "outputs": [],
      "source": [
        "#@title Test Perfomance\n",
        "\n",
        "pf= [[score[0],score[1],score[2]]]\n",
        "performance = pd.DataFrame(pf)\n",
        "performance.columns=['Test loss','IoU','Dice Coef']\n",
        "performance = performance.style.set_table_styles([dict(selector='th', props=[('text-align', 'center')])])\n",
        "performance.set_properties(**{'text-align': 'center'}).hide_index()"
      ],
      "id": "STy-2kTUx-s1"
    },
    {
      "cell_type": "markdown",
      "metadata": {
        "id": "YdIhSoz36PQp"
      },
      "source": [
        "## Pretrained UNet + MobileNet"
      ],
      "id": "YdIhSoz36PQp"
    },
    {
      "cell_type": "code",
      "execution_count": null,
      "metadata": {
        "id": "M1j9nZBwDghC"
      },
      "outputs": [],
      "source": [
        "import segmentation_models as sm\n",
        "\n",
        "BACKBONE = 'mobilenet'\n",
        "preprocess_input = sm.get_preprocessing(BACKBONE)\n",
        "\n",
        "\n",
        "\n",
        "# preprocess input\n",
        "X_Breast_Train = preprocess_input(X_Breast_Train)\n",
        "\n",
        "\n",
        "# define model\n",
        "model = sm.Unet(BACKBONE, input_shape=(IMG_SIZE, IMG_SIZE, 3),encoder_weights='imagenet',classes=1, activation='sigmoid')\n",
        "model.compile(\n",
        "    'Adam',\n",
        "    loss='binary_crossentropy',\n",
        "    metrics=[tf.keras.metrics.BinaryIoU(target_class_ids=[0, 1], threshold=0.3),dice_coef])\n",
        "reduce_lr = tf.keras.callbacks.ReduceLROnPlateau(monitor='val_loss', factor=0.2,\n",
        "                              patience=3, min_lr=0.0000001)\n",
        "\n"
      ],
      "id": "M1j9nZBwDghC"
    },
    {
      "cell_type": "code",
      "execution_count": null,
      "metadata": {
        "id": "3VJtFrqE3uVo"
      },
      "outputs": [],
      "source": [
        "model.summary()"
      ],
      "id": "3VJtFrqE3uVo"
    },
    {
      "cell_type": "code",
      "execution_count": null,
      "metadata": {
        "id": "qX_7bT3Y4fEn"
      },
      "outputs": [],
      "source": [
        "plot_model(model, to_file='model_plot.png', show_shapes=True, show_layer_names=True)"
      ],
      "id": "qX_7bT3Y4fEn"
    },
    {
      "cell_type": "code",
      "execution_count": null,
      "metadata": {
        "id": "RIzUq4WV3l_1"
      },
      "outputs": [],
      "source": [
        "# fit model\n",
        "start = dt.now()\n",
        "history=model.fit(x_breast_seg,train_breast_mask,batch_size=16,epochs=60,validation_split=0.1,verbose=1,callbacks=[reduce_lr])\n",
        "running_secs = (dt.now() - start).seconds\n",
        "score = model.evaluate(x_breast_seg_test, test_breast_mask, verbose=1)"
      ],
      "id": "RIzUq4WV3l_1"
    },
    {
      "cell_type": "code",
      "execution_count": null,
      "metadata": {
        "id": "V3Y-8QVS5hCd"
      },
      "outputs": [],
      "source": [
        "#@title Training Time\n",
        "print(str(datetime.timedelta(seconds=running_secs)))"
      ],
      "id": "V3Y-8QVS5hCd"
    },
    {
      "cell_type": "code",
      "execution_count": null,
      "metadata": {
        "id": "dOWTSB8-5hCe"
      },
      "outputs": [],
      "source": [
        "model.save('Breast_mseg.h5')\n",
        "model1 = load_model('Breast_mseg.h5',custom_objects={'dice_coef':dice_coef})"
      ],
      "id": "dOWTSB8-5hCe"
    },
    {
      "cell_type": "code",
      "execution_count": null,
      "metadata": {
        "id": "a_y46CBN5hCf"
      },
      "outputs": [],
      "source": [
        "#@title Model Performance \n",
        "\n",
        "pf=[[max(history.history['loss']),max(history.history['val_loss']),max(history.history['binary_io_u_2']),max(history.history['val_binary_io_u_2']),max(history.history['dice_coef']),max(history.history['val_dice_coef'])]]\n",
        "performance = pd.DataFrame(pf)\n",
        "performance.columns=['Max. training loss','Minimum Val. Loss','Maximum training IoU','Maximum val. accuracy','Max Dice coef','Max Dice coef']\n",
        "\n",
        "performance"
      ],
      "id": "a_y46CBN5hCf"
    },
    {
      "cell_type": "code",
      "execution_count": null,
      "metadata": {
        "id": "P16gX3kJ5hCf"
      },
      "outputs": [],
      "source": [
        "#@title Visualization of some performance metrics\n",
        "print(history.history.keys())\n",
        "# summarize history for accuracy\n",
        "plt.plot(history.history['loss'])\n",
        "plt.plot(history.history['val_loss'])\n",
        "plt.title('model loss')\n",
        "plt.ylabel('loss')\n",
        "plt.xlabel('epoch')\n",
        "plt.legend(['train', 'test'], loc='upper left')\n",
        "plt.show()\n",
        "# summarize history for loss\n",
        "plt.plot(history.history['binary_io_u_2'])\n",
        "plt.plot(history.history['val_binary_io_u_2'])\n",
        "plt.title('model IoU')\n",
        "plt.ylabel('IoU')\n",
        "plt.xlabel('epoch')\n",
        "plt.legend(['train', 'test'], loc='upper left')\n",
        "plt.show()"
      ],
      "id": "P16gX3kJ5hCf"
    },
    {
      "cell_type": "code",
      "execution_count": null,
      "metadata": {
        "id": "MxTTRKCq5hCh"
      },
      "outputs": [],
      "source": [
        "#@title Test Perfomance\n",
        "\n",
        "pf= [[score[0],score[1],score[2]]]\n",
        "performance = pd.DataFrame(pf)\n",
        "performance.columns=['Test loss','IoU','Dice Coef']\n",
        "performance = performance.style.set_table_styles([dict(selector='th', props=[('text-align', 'center')])])\n",
        "performance.set_properties(**{'text-align': 'center'}).hide_index()"
      ],
      "id": "MxTTRKCq5hCh"
    },
    {
      "cell_type": "code",
      "execution_count": null,
      "metadata": {
        "id": "lft4OQNG7iHJ"
      },
      "outputs": [],
      "source": [
        "## Display a random output from test data\n",
        "n=10\n",
        "output=model.predict(x_breast_seg_test)\n",
        "output_=binarize_mask(output[n]*255)\n",
        "print('\\nImage\\n')\n",
        "\n",
        "cv2_imshow(x_breast_seg_test[n]*255)\n",
        "\n",
        "cv2.waitKey(0)\n",
        "x_breast_seg_test\n",
        "print(\"\\nReal Mask\\n\")\n",
        "\n",
        "\n",
        "cv2_imshow(test_breast_mask[n]*255)\n",
        "\n",
        "cv2.waitKey(0)\n",
        "\n",
        "print('\\nwidth:', sum((test_breast_mask[n]> 0).any(axis=0)))\n",
        "print('height:', sum((test_breast_mask[n]> 0).any(axis=1)))\n",
        "\n",
        "print(\"\\n\\nPredicted Mask\\n\")\n",
        "cv2_imshow(output_*255)\n",
        "\n",
        "cv2.waitKey(0)\n",
        "\n",
        "print('\\nwidth:', sum((output_> 0).any(axis=0)))\n",
        "print('height:', sum((output_> 0).any(axis=1)))"
      ],
      "id": "lft4OQNG7iHJ"
    },
    {
      "cell_type": "code",
      "execution_count": null,
      "metadata": {
        "id": "4u-a2vJH6Txq"
      },
      "outputs": [],
      "source": [],
      "id": "4u-a2vJH6Txq"
    }
  ],
  "metadata": {
    "accelerator": "GPU",
    "colab": {
      "collapsed_sections": [
        "DfRXajz22eNg",
        "SYWh2z8TMSfA",
        "HNxqZ-74KTZM",
        "O8yQ3FfhKNpY"
      ],
      "provenance": [],
      "include_colab_link": true
    },
    "gpuClass": "standard",
    "kernelspec": {
      "display_name": "Python 3",
      "language": "python",
      "name": "python3"
    },
    "language_info": {
      "codemirror_mode": {
        "name": "ipython",
        "version": 3
      },
      "file_extension": ".py",
      "mimetype": "text/x-python",
      "name": "python",
      "nbconvert_exporter": "python",
      "pygments_lexer": "ipython3",
      "version": "3.8.8"
    }
  },
  "nbformat": 4,
  "nbformat_minor": 5
}